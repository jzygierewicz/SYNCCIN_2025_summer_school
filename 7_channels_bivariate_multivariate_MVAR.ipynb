{
  "cells": [
    {
      "cell_type": "markdown",
      "id": "23b774e0",
      "metadata": {
        "id": "23b774e0"
      },
      "source": [
        "# 7-Channel DTF Analysis: Frequency Selectivity Demonstration\n",
        "\n",
        "**SYNCCIN 2025 Summer School**\n",
        "\n",
        "[![Open In Colab](https://colab.research.google.com/assets/colab-badge.svg)](https://colab.research.google.com/github/jzygierewicz/SYNCCIN_2025_summer_school/blob/main/7_channels_bivariate_multivariate_MVAR.ipynb)\n",
        "\n",
        "---\n",
        "\n",
        "**Learning Objectives**\n",
        "\n",
        "This notebook demonstrates the **frequency selectivity** of the Directed Transfer Function (DTF) using a 7-channel EEG simulation:\n",
        "\n",
        "1. **Understand frequency-specific connectivity**: Learn how DTF reveals different connectivity patterns across frequency bands\n",
        "2. **Distinguish signal vs. noise transmission**: Identify alpha rhythm transmission vs. noise propagation\n",
        "\n",
        "\n",
        "---"
      ]
    },
    {
      "cell_type": "markdown",
      "id": "cee42099",
      "metadata": {
        "id": "cee42099"
      },
      "source": [
        "## **Setup: Install Dependencies & Download Data**\n",
        "\n",
        "This cell installs all required packages and downloads the necessary data files from GitHub."
      ]
    },
    {
      "cell_type": "code",
      "execution_count": null,
      "id": "d6f95e73",
      "metadata": {
        "id": "d6f95e73"
      },
      "outputs": [],
      "source": [
        "# Install required packages\n",
        "!pip install networkx joblib xmltodict neurokit2\n",
        "\n",
        "print(\"All packages installed successfully!\")"
      ]
    },
    {
      "cell_type": "markdown",
      "id": "6965b59f",
      "metadata": {
        "id": "6965b59f"
      },
      "source": [
        "## **Download Required Files**\n",
        "\n",
        "Download all necessary data files and Python modules from the GitHub repository."
      ]
    },
    {
      "cell_type": "code",
      "execution_count": null,
      "id": "15302f9a",
      "metadata": {
        "id": "15302f9a"
      },
      "outputs": [],
      "source": [
        "import urllib.request\n",
        "import os\n",
        "\n",
        "# Base URL for the GitHub repository\n",
        "base_url = \"https://raw.githubusercontent.com/jzygierewicz/SYNCCIN_2025_summer_school/main/\"\n",
        "\n",
        "# Files to download\n",
        "files_to_download = [\n",
        "    \"simulated_7_channels.joblib\",  # 7-channel simulation data\n",
        "    \"mtmvar.py\",\n",
        "    \"utils.py\",\n",
        "    \"7chan_sim.png\"  # Connectivity diagram\n",
        "]\n",
        "\n",
        "print(\"Downloading files from GitHub repository...\")\n",
        "\n",
        "for file in files_to_download:\n",
        "    if not os.path.exists(file):\n",
        "        try:\n",
        "            urllib.request.urlretrieve(base_url + file, file)\n",
        "            print(f\"Downloaded: {file}\")\n",
        "        except Exception as e:\n",
        "            print(f\"Error downloading {file}: {e}\")\n",
        "    else:\n",
        "        print(f\"Already exists: {file}\")\n",
        "\n",
        "print(\"\\nAll files ready for analysis!\")"
      ]
    },
    {
      "cell_type": "markdown",
      "id": "1574a716",
      "metadata": {
        "id": "1574a716"
      },
      "source": [
        "## **Import Libraries and Modules**\n",
        "\n",
        "Import all necessary libraries including our custom MVAR analysis functions."
      ]
    },
    {
      "cell_type": "code",
      "execution_count": null,
      "id": "7884daa0",
      "metadata": {
        "id": "7884daa0"
      },
      "outputs": [],
      "source": [
        "import matplotlib.pyplot as plt\n",
        "import numpy as np\n",
        "import joblib\n",
        "import networkx as nx\n",
        "\n",
        "# Local application/library imports\n",
        "from mtmvar import (\n",
        "    mvar_criterion, AR_coeff, mvar_H,\n",
        "    multivariate_spectra, DTF_multivariate,\n",
        "    mvar_plot, graph_plot\n",
        ")\n",
        "from utils import describe_dict\n",
        "\n",
        "print(\"All libraries imported successfully!\")"
      ]
    },
    {
      "cell_type": "markdown",
      "id": "bc29d815",
      "metadata": {
        "id": "bc29d815"
      },
      "source": [
        "# **7-Channel Simulation: Frequency-Selective Connectivity**\n",
        "### **Frequency Selectivity in DTF**\n",
        "\n",
        "The **Directed Transfer Function (DTF)** is inherently **frequency-selective**, meaning it can reveal different connectivity patterns at different frequencies:\n",
        "$$\n",
        "DTF_{i \\rightarrow j}(f) = |H_{ji}(f)|^2\n",
        "$$\n",
        "\n",
        "Where:\n",
        "- **$H_{ji}(f)$**: Transfer function from channel $i$ to channel $j$ at frequency $f$\n",
        "- **Frequency-specific**: Each frequency $f$ has its own connectivity pattern\n",
        "\n",
        "---\n",
        "\n",
        "## **Load and Explore 7-Channel Simulation**"
      ]
    },
    {
      "cell_type": "code",
      "execution_count": null,
      "id": "7b509aa9",
      "metadata": {
        "id": "7b509aa9"
      },
      "outputs": [],
      "source": [
        "data = joblib.load('simulated_7_channels.joblib')\n",
        "print('7-Channel Simulation Data Contents:')\n",
        "describe_dict(data)\n",
        "\n",
        "sim1 = data['EEG']\n",
        "Fs = data['Fs'].item()  # Extract sampling frequency\n",
        "N_chan, N_samp = sim1.shape\n",
        "sim_chan_names = ['0', '1', '2', '3', '4', '5', '6']  # Channel names\n",
        "\n",
        "print(f\"\\nSimulation Parameters:\")\n",
        "print(f\"   Channels: {N_chan}\")\n",
        "print(f\"   Samples: {N_samp}\")\n",
        "print(f\"   Sampling rate: {Fs} Hz\")\n",
        "print(f\"   Channel names: {sim_chan_names}\")"
      ]
    },
    {
      "cell_type": "markdown",
      "id": "d4466275",
      "metadata": {
        "id": "d4466275"
      },
      "source": [
        "## **Connectivity Structure Visualization**\n",
        "\n",
        "The 7-channel simulation follows this connectivity scheme:\n",
        "<img src=\"https://raw.githubusercontent.com/jzygierewicz/SYNCCIN_2025_summer_school/main/7chan_sim.png\" alt=\"7-Channel Simulation Structure\" width=\"50%\"/>\n",
        "\n",
        "- **Signal transmission**: Alpha rhythm (8-12 Hz) from Channel 0\n",
        "- **Noise transmission**: Broadband noise added between other channels"
      ]
    },
    {
      "cell_type": "markdown",
      "id": "c8d5ead5",
      "metadata": {
        "id": "c8d5ead5"
      },
      "source": [
        "## **Visualize Delay Structure**\n",
        "\n",
        "Plot the first 20 samples to observe the **marker propagation** and **delay pattern** across channels."
      ]
    },
    {
      "cell_type": "code",
      "execution_count": null,
      "id": "91e2e81a",
      "metadata": {
        "id": "91e2e81a"
      },
      "outputs": [],
      "source": [
        "idx = np.arange(0, 20, 1)\n",
        "Min = np.min(sim1[:, idx])\n",
        "Max = np.max(sim1[:, idx])\n",
        "\n",
        "# Create figure with N_chan subplots\n",
        "fig, ax = plt.subplots(N_chan, 1, sharex=True, figsize=(10, 7))\n",
        "fig.suptitle('7-Channel Simulation: Delay Structure and Marker Propagation',\n",
        "             fontsize=12, fontweight='bold')\n",
        "\n",
        "for i in range(N_chan):\n",
        "    ax[i].stem(idx, sim1[i, idx], basefmt=\" \")\n",
        "    ax[i].set_ylabel(f'Ch {i}', fontweight='bold')\n",
        "    ax[i].set_ylim([Min, Max])\n",
        "    ax[i].grid(True, alpha=0.3)\n",
        "\n",
        "    # Highlight the marker region (around sample 8)\n",
        "    ax[i].axvspan(7.5, 10.5, alpha=0.2, color='red', label='Marker Region' if i == 0 else \"\")\n",
        "\n",
        "ax[N_chan-1].set_xlabel('Time [samples]', fontweight='bold')\n",
        "ax[0].legend()\n",
        "plt.tight_layout()\n",
        "plt.show()\n",
        "\n",
        "print(\"Key Observations:\")\n",
        "print(\"   Notice the marker (red region) at sample ~8 in Channel 0\")\n",
        "print(\"   Observe how the marker appears delayed in other channels\")"
      ]
    },
    {
      "cell_type": "markdown",
      "id": "4301b78a",
      "metadata": {
        "id": "4301b78a"
      },
      "source": [
        "# **Multivariate MVAR Analysis**\n",
        "\n",
        "Set up parameters for the multivariate DTF analysis with focus on frequency selectivity."
      ]
    },
    {
      "cell_type": "code",
      "execution_count": null,
      "id": "c351404d",
      "metadata": {
        "id": "c351404d"
      },
      "outputs": [],
      "source": [
        "max_p = 15  # Maximum model order for testing\n",
        "p_opt = 15  # Fixed optimal model order for demonstration\n",
        "crit_type = 'AIC'  # Information criterion\n",
        "f = np.arange(0, 30, 0.1)  # Frequency vector (focus on 0-30 Hz range)\n",
        "N_f = f.shape[0]"
      ]
    },
    {
      "cell_type": "markdown",
      "id": "9fb63e5a",
      "metadata": {
        "id": "9fb63e5a"
      },
      "source": [
        "Compute the **auto-spectra** and **cross-spectra** using the multivariate approach with fixed model order."
      ]
    },
    {
      "cell_type": "code",
      "execution_count": null,
      "id": "cbe9e502",
      "metadata": {
        "id": "cbe9e502"
      },
      "outputs": [],
      "source": [
        "S_multivariate = multivariate_spectra(sim1, f, Fs, max_p, p_opt=p_opt, crit_type=crit_type)"
      ]
    },
    {
      "cell_type": "markdown",
      "id": "4d294005",
      "metadata": {
        "id": "4d294005"
      },
      "source": [
        "Calculate the **Directed Transfer Function**."
      ]
    },
    {
      "cell_type": "code",
      "execution_count": null,
      "id": "e41600d6",
      "metadata": {
        "id": "e41600d6"
      },
      "outputs": [],
      "source": [
        "DTF = DTF_multivariate(sim1, f, Fs, max_p=20, p_opt=p_opt, crit_type=crit_type)"
      ]
    },
    {
      "cell_type": "markdown",
      "id": "88509040",
      "metadata": {
        "id": "88509040"
      },
      "source": [
        "# DTF Results: Frequency-Selective Analysis\n",
        "\n",
        "## Matrix Visualization: Full Frequency Range\n",
        "\n",
        "Display the DTF matrix showing connectivity patterns across all frequencies."
      ]
    },
    {
      "cell_type": "code",
      "execution_count": null,
      "id": "06543b76",
      "metadata": {
        "id": "06543b76"
      },
      "outputs": [],
      "source": [
        "mvar_plot(S_multivariate, DTF, f, 'From ', 'To ', sim_chan_names,\n",
        "          'Multivariate DTF (0-30 Hz)', 'sqrt')\n",
        "plt.show()\n",
        "\n",
        "print(\"\\nAnalysis Points:\")\n",
        "print(\"   Look at the first column (From Channel 0) - should show strong alpha connectivity\")\n",
        "print(\"   Alpha peak (~10 Hz) should be prominent in Channel 0 → Others\")\n",
        "print(\"   Other connections 1 → 2 , and 3 → 4, 3 → 5 show broadband or noise-like patterns\")\n",
        "print(\"   Compare alpha-specific vs. broadband transmission patterns\")"
      ]
    },
    {
      "cell_type": "markdown",
      "id": "714fbc95",
      "metadata": {
        "id": "714fbc95"
      },
      "source": [
        "# Network Analysis: Frequency Band Comparison\n",
        "\n",
        "## Alpha Band vs. Broadband Connectivity\n",
        "\n",
        "Compare connectivity patterns between the **alpha band (8-12 Hz)** and **full frequency range (0-30 Hz)**."
      ]
    },
    {
      "cell_type": "code",
      "execution_count": null,
      "id": "7bad10e3",
      "metadata": {
        "id": "7bad10e3"
      },
      "outputs": [],
      "source": [
        "fig, axs = plt.subplots(1, 2, figsize=(16, 7))\n",
        "\n",
        "# Alpha band analysis (8-12 Hz)\n",
        "f_range_alpha = (8, 12)\n",
        "print(f\"Alpha Band Analysis ({f_range_alpha[0]}-{f_range_alpha[1]} Hz):\")\n",
        "G_alpha = graph_plot(DTF, axs[0], f, f_range_alpha, sim_chan_names,\n",
        "                     f'DTF: Alpha Band ({f_range_alpha[0]}-{f_range_alpha[1]} Hz)')\n",
        "\n",
        "# Broadband analysis (0-30 Hz)\n",
        "f_range_broad = (0, 30)\n",
        "print(f\"Broadband Analysis ({f_range_broad[0]}-{f_range_broad[1]} Hz):\")\n",
        "G_all = graph_plot(DTF, axs[1], f, f_range_broad, sim_chan_names,\n",
        "                   f'DTF: Broadband ({f_range_broad[0]}-{f_range_broad[1]} Hz)')\n",
        "\n",
        "plt.tight_layout()\n",
        "plt.show()"
      ]
    },
    {
      "cell_type": "markdown",
      "id": "d400cf68",
      "metadata": {
        "id": "d400cf68"
      },
      "source": [
        "# Observations\n",
        "\n",
        "- We can observe that channel 0 is the source of alpha rhythm passing information to channels 1, 2, 3, 4, and 5.\n",
        "- Transmission from channel 1 to 2 has flat spectral characteristic - this signifies that what is transmitted from channel 1 to 2 is only the noise we added to channel 1. The same is seen in the transmission from channel 3 to 4 and 5.\n",
        "- Visualisation of the narrowband graph focussed on the alpha peak shows the propagation of alpha activity. Making the frequency band broad reveals also the transmition of noise. Both results are compatible with the simulation structure.\n",
        "\n",
        "Thus with the multivariate DTF we can distinguish the source of alpha rhythm from the sources of noise added to channels 1, 2, 3, 4, and 5.\n",
        "\n",
        "\n",
        "# **Conclusions**\n",
        "DTF is frequency specific, which can be useful in real cases whne the analysed signal contains many rhythms (e.g., EEG theta, alpha, beta ), and for each of them the connectivity pattern is different.\n",
        "\n",
        "## Suggested next steps\n",
        "- Explore the impact of different model orders on DTF results.\n",
        "- Compare DTF results with other connectivity measures (e.g., Granger causality).\n",
        "- Investigate the effects of noise on DTF estimates.\n",
        "- Experiment what the results would be in the case of bivariate analysis. Can it also reveal the correct transmition pattern separating alpha spource from noise?"
      ]
    },
    {
      "cell_type": "markdown",
      "id": "00d39e1b",
      "metadata": {
        "id": "00d39e1b"
      },
      "source": [
        "---\n",
        "**Educational Materials**: [SYNCCIN 2025 Repository](https://github.com/jzygierewicz/SYNCCIN_2025_summer_school)\n",
        "- **Author**: Jarosław Żygierewicz\n",
        "- **Institution**: University of Warsaw\n",
        "- **Event**: SYNCCIN 2025 Summer School"
      ]
    }
  ],
  "metadata": {
    "kernelspec": {
      "display_name": "Python 3",
      "language": "python",
      "name": "python3"
    },
    "language_info": {
      "codemirror_mode": {
        "name": "ipython",
        "version": 3
      },
      "file_extension": ".py",
      "mimetype": "text/x-python",
      "name": "python",
      "nbconvert_exporter": "python",
      "pygments_lexer": "ipython3",
      "version": "3.11.6"
    },
    "colab": {
      "provenance": []
    }
  },
  "nbformat": 4,
  "nbformat_minor": 5
}