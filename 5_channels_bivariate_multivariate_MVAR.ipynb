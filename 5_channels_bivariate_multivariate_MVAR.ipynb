{
  "cells": [
    {
      "cell_type": "markdown",
      "id": "22d2f4f3",
      "metadata": {
        "id": "22d2f4f3"
      },
      "source": [
        "\n",
        "\n",
        "# 5-Channel Bivariate vs. Multivariate MVAR Analysis\n",
        "**SYNCCIN 2025 Summer School**\n",
        "\n",
        "[![Open In Colab](https://colab.research.google.com/assets/colab-badge.svg)](https://colab.research.google.com/github/jzygierewicz/SYNCCIN_2025_summer_school/blob/main/5_channels_bivariate_multivariate_MVAR.ipynb)\n",
        "\n",
        "---\n",
        "\n",
        "## **Learning Objectives**\n",
        "\n",
        "This notebook further explores the differences in bivariate and multivariate approaches to connectivity estimation using MVAR modeling and DTF analysis:\n",
        "\n",
        "1. **Compare methodological approaches**: Understand when and why to use bivariate vs. multivariate methods\n",
        "2. **Analyze spurious connections**: Learn how missing information leads to incorrect connectivity patterns\n",
        "3. **Explore missing driver effects**: Investigate what happens when the true driving channel is excluded\n",
        "\n",
        "## **Key Questions This Analysis Answers**\n",
        "\n",
        "- **When do bivariate methods fail?** What are the limitations of pairwise analysis?\n",
        "- **How does multivariate modeling improve accuracy?** Why consider all channels simultaneously?\n",
        "- **What happens with missing drivers?** How do connectivity patterns change when key channels are excluded?\n",
        "---\n",
        "\n",
        "### Note:\n",
        "\n",
        "in this notebook we use fuctions from mtmvar.py to compute the spectra and DTF in bivariate and multivariate manner.\n",
        "\n",
        "---"
      ]
    },
    {
      "cell_type": "markdown",
      "id": "d507e3d9",
      "metadata": {
        "id": "d507e3d9"
      },
      "source": [
        "## **Setup: Install Dependencies & Download Data**\n",
        "This cell installs all required packages and downloads the necessary data files from GitHub."
      ]
    },
    {
      "cell_type": "code",
      "execution_count": null,
      "id": "87105ae3",
      "metadata": {
        "id": "87105ae3"
      },
      "outputs": [],
      "source": [
        "# Install required packages\n",
        "!pip install networkx joblib xmltodict neurokit2\n",
        "#!pip install joblib matplotlib numpy networkx plotly -q\n",
        "\n",
        "print(\" All packages installed successfully!\")"
      ]
    },
    {
      "cell_type": "markdown",
      "id": "bb602a86",
      "metadata": {
        "id": "bb602a86"
      },
      "source": [
        "## **Download Required Files**\n",
        "Download all necessary data files and Python modules from the GitHub repository."
      ]
    },
    {
      "cell_type": "code",
      "execution_count": null,
      "id": "17696d34",
      "metadata": {
        "id": "17696d34"
      },
      "outputs": [],
      "source": [
        "import urllib.request\n",
        "import os\n",
        "\n",
        "# Base URL for the GitHub repository\n",
        "base_url = \"https://raw.githubusercontent.com/jzygierewicz/SYNCCIN_2025_summer_school/main/\"\n",
        "\n",
        "# Files to download\n",
        "files_to_download = [\n",
        "    \"EEG_alpha.joblib\",\n",
        "    \"mtmvar.py\",\n",
        "    \"utils.py\"\n",
        "]\n",
        "\n",
        "print(\"Downloading files from GitHub repository...\")\n",
        "\n",
        "for file in files_to_download:\n",
        "    if not os.path.exists(file):\n",
        "        try:\n",
        "            urllib.request.urlretrieve(base_url + file, file)\n",
        "            print(f\" Downloaded: {file}\")\n",
        "        except Exception as e:\n",
        "            print(f\" Error downloading {file}: {e}\")\n",
        "    else:\n",
        "        print(f\" Already exists: {file}\")\n",
        "\n",
        "print(\"\\n All files ready for analysis!\")"
      ]
    },
    {
      "cell_type": "markdown",
      "id": "73ac3927",
      "metadata": {
        "id": "73ac3927"
      },
      "source": [
        "## **Import Libraries and Modules**\n",
        "Import all necessary libraries including our custom MVAR analysis functions."
      ]
    },
    {
      "cell_type": "code",
      "execution_count": null,
      "id": "d35d176a",
      "metadata": {
        "id": "d35d176a"
      },
      "outputs": [],
      "source": [
        "import matplotlib.pyplot as plt\n",
        "import numpy as np\n",
        "import joblib\n",
        "import networkx as nx\n",
        "# import plotly.graph_objects as go\n",
        "# import plotly.subplots as sp\n",
        "# from plotly.subplots import make_subplots\n",
        "\n",
        "# Local application/library imports\n",
        "from mtmvar import (\n",
        "    mvar_criterion, AR_coeff, mvar_H,\n",
        "    bivariate_spectra, multivariate_spectra,\n",
        "    DTF_bivariate, DTF_multivariate,\n",
        "    mvar_plot, graph_plot\n",
        ")\n",
        "from utils import describe_dict\n",
        "\n",
        "print(\" All libraries imported successfully!\")"
      ]
    },
    {
      "cell_type": "markdown",
      "id": "622ee1a2",
      "metadata": {
        "id": "622ee1a2"
      },
      "source": [
        "# **Data Preparation: Creating a 5-Channel Simulation**\n",
        "We'll create a **controlled simulation** with 5 channels to compare bivariate vs. multivariate approaches:\n",
        "\n",
        "- **Channel 0**: Original EEG signal (driving channel)\n",
        "- **Channels 1-4**: Noisy delayed copies of Channel 0\n",
        "- **Known connectivity**: Clear hierarchical structure with Channel 0 → Others\n",
        "\n",
        "---\n",
        "\n",
        "## **Load and Explore EEG Data**"
      ]
    },
    {
      "cell_type": "code",
      "execution_count": null,
      "id": "1227bc52",
      "metadata": {
        "id": "1227bc52"
      },
      "outputs": [],
      "source": [
        "# Load data from EEG_alpha.joblib\n",
        "data = joblib.load('EEG_alpha.joblib')\n",
        "print('data contents:')\n",
        "describe_dict(data)\n",
        "\n",
        "Fs = data['Fs'].item()\n",
        "print(f\"\\n Sampling frequency: {Fs} Hz\")\n",
        "print(f\" Available channels: {list(data['channels'].keys())}\")\n",
        "print(f\" EEG data shape: {data['EEG'].shape}\")"
      ]
    },
    {
      "cell_type": "markdown",
      "id": "a03051ef",
      "metadata": {
        "id": "a03051ef"
      },
      "source": [
        "## **Configure Simulation Parameters**"
      ]
    },
    {
      "cell_type": "code",
      "execution_count": null,
      "id": "8c3477ca",
      "metadata": {
        "id": "8c3477ca"
      },
      "outputs": [],
      "source": [
        "# Set the lag between the signals in samples\n",
        "dt = 1  # 1 sample delay between consecutive channels\n",
        "\n",
        "# Extract a fragment of the EEG data from channel O1\n",
        "idx_t0 = 80\n",
        "N = 2000\n",
        "x1 = data['EEG'][data['channels']['O1'], idx_t0 : idx_t0 + N + 2*dt]\n",
        "x1 = x1 / np.std(x1)  # normalize the signal\n",
        "x1[20] = 30  # Add a marker to visualize delays between channels"
      ]
    },
    {
      "cell_type": "markdown",
      "id": "16763327",
      "metadata": {
        "id": "16763327"
      },
      "source": [
        "## **Create Multi-Channel Simulation**\n",
        "Create 5 channels with a **known connectivity structure**:\n",
        "- **Channel 0**: Original signal (driver)\n",
        "- **Channels 1-4**: Delayed, noisy copies\n",
        "- **Progressive delays**: Each channel has increasing delay from the driver"
      ]
    },
    {
      "cell_type": "code",
      "execution_count": null,
      "id": "cc294ef9",
      "metadata": {
        "id": "cc294ef9"
      },
      "outputs": [],
      "source": [
        "# Create noisy copies of the signal\n",
        "N = x1.shape[0]\n",
        "A = 1  # Noise amplitude\n",
        "x2 = x1 + A * np.random.randn(N)\n",
        "x3 = x1 + A * np.random.randn(N)\n",
        "x4 = x1 + A * np.random.randn(N)\n",
        "x5 = x1 + A * np.random.randn(N)\n",
        "\n",
        "# Form a multichannel array with progressive delays\n",
        "# Each channel is delayed more than the previous one\n",
        "sim1 = np.vstack((\n",
        "    x1[4*dt:],           # Channel 0: least delay (driver)\n",
        "    x2[3*dt:-1*dt],      # Channel 1: 1 sample delay\n",
        "    x3[2*dt:-2*dt],      # Channel 2: 2 sample delay\n",
        "    x4[1*dt:-3*dt],      # Channel 3: 3 sample delay\n",
        "    x5[:-4*dt]           # Channel 4: 4 sample delay\n",
        "))\n",
        "\n",
        "[N_chan, N_samp] = sim1.shape\n",
        "sim_chan_names = ['0', '1', '2', '3', '4']  # Channel names"
      ]
    },
    {
      "cell_type": "markdown",
      "id": "6f532823",
      "metadata": {
        "id": "6f532823"
      },
      "source": [
        "## **Visualize the Simulation Structure**\n",
        "The simulation follows the scheme:\n",
        "\n",
        "<img src=\"https://raw.githubusercontent.com/jzygierewicz/SYNCCIN_2025_summer_school/main/5chan_sim.png\" alt=\"5-Channel Simulation Structure\" width=\"50%\"/>\n",
        "\n",
        "Plot the first 50 samples to observe the **marker propagation** and **delay structure**."
      ]
    },
    {
      "cell_type": "code",
      "execution_count": null,
      "id": "4f96ad39",
      "metadata": {
        "id": "4f96ad39"
      },
      "outputs": [],
      "source": [
        "# Visualize the first 50 samples to see the delay structure\n",
        "idx = np.arange(0, 50, 1)\n",
        "Min = np.min(sim1[:, idx])\n",
        "Max = np.max(sim1[:, idx])\n",
        "\n",
        "# Create figure with N_chan subplots\n",
        "fig, ax = plt.subplots(N_chan, 1, sharex=True, figsize=(12, 8))\n",
        "fig.suptitle('5-Channel Simulation: Delay Structure Visualization', fontsize=14, fontweight='bold')\n",
        "\n",
        "for i in range(N_chan):\n",
        "    ax[i].stem(idx, sim1[i, idx], basefmt=\" \")\n",
        "    ax[i].set_ylabel(f'Ch {i}', fontweight='bold')\n",
        "    ax[i].set_ylim([Min, Max])\n",
        "    ax[i].grid(True, alpha=0.3)\n",
        "\n",
        "    # Highlight the marker region\n",
        "    ax[i].axvspan(15, 25, alpha=0.2, color='red', label='Marker Region')\n",
        "\n",
        "ax[N_chan-1].set_xlabel('Time [samples]', fontweight='bold')\n",
        "ax[0].legend()\n",
        "plt.tight_layout()\n",
        "plt.show()\n",
        "\n",
        "print(\"Observe the marker (red region) progression across channels\")\n",
        "print(\"Notice how the marker appears later in higher-numbered channels\")\n",
        "print(\"This demonstrates the simulated connectivity structure\")"
      ]
    },
    {
      "cell_type": "markdown",
      "id": "2d23a6e5",
      "metadata": {
        "id": "2d23a6e5"
      },
      "source": [
        "# **MVAR Model Estimation and Spectral Analysis**\n",
        "## **Configure Analysis Parameters**\n",
        "\n",
        "The optimal model order for MVAR can be selected using information criteria:\n",
        "\n",
        "- **AIC (Akaike Information Criterion):**\n",
        "    $$\n",
        "    \\mathrm{AIC}(p) = \\ln\\det(\\mathbf{V}) + \\frac{2 p k^2}{N}\n",
        "    $$\n",
        "\n",
        "- **HQ (Hannan-Quinn Criterion):**\n",
        "    $$\n",
        "    \\mathrm{HQ}(p) = \\ln\\det(\\mathbf{V}) + \\frac{2 \\ln\\ln N \\; p k^2}{N}\n",
        "    $$\n",
        "\n",
        "- **SC (Schwarz Criterion, BIC):**\n",
        "    $$\n",
        "    \\mathrm{SC}(p) = \\ln\\det(\\mathbf{V}) + \\frac{\\ln N \\; p k^2}{N}\n",
        "    $$\n",
        "\n",
        "where:\n",
        "- \\( p \\): model order\n",
        "- \\( k \\): number of channels\n",
        "- \\( N \\): number of samples\n",
        "- \\( \\mathbf{V} \\): residual covariance matrix"
      ]
    },
    {
      "cell_type": "code",
      "execution_count": null,
      "id": "94de1e3c",
      "metadata": {
        "id": "94de1e3c"
      },
      "outputs": [],
      "source": [
        "# Analysis parameters\n",
        "max_p = 15  # Maximum model order to test\n",
        "crit_type = 'AIC'  # Information criterion (AIC or HQ or SC for Akaike or Hannan-Quinn or Schwartz)\n",
        "f = np.arange(0, 30, 0.1)  # Frequency vector for analysis\n",
        "N_f = f.shape[0]"
      ]
    },
    {
      "cell_type": "markdown",
      "id": "d402dd88",
      "metadata": {
        "id": "d402dd88"
      },
      "source": [
        "## **Bivariate Spectral Analysis**\n",
        "\n",
        "Estimate **auto-spectra** and **cross-spectra** using the bivariate approach. Note how the optimal model order is estimated separately for each channel pair."
      ]
    },
    {
      "cell_type": "code",
      "execution_count": null,
      "id": "649073e9",
      "metadata": {
        "id": "649073e9"
      },
      "outputs": [],
      "source": [
        "S_bivariate = bivariate_spectra(sim1, f, Fs, max_p, p_opt = None,crit_type = crit_type)\n",
        "\n",
        "\n",
        "print(\"Bivariate spectral analysis completed!\")\n",
        "print(\"Note the different optimal orders printed above for each pair\")"
      ]
    },
    {
      "cell_type": "markdown",
      "id": "69322d2b",
      "metadata": {
        "id": "69322d2b"
      },
      "source": [
        "## **Multivariate Spectral Analysis**\n",
        "\n",
        "Estimate spectra using the multivariate approach. Note how a **single optimal model order** is used for all channels simultaneously."
      ]
    },
    {
      "cell_type": "code",
      "execution_count": null,
      "id": "694d9dc5",
      "metadata": {
        "id": "694d9dc5"
      },
      "outputs": [],
      "source": [
        "S_multivariate = multivariate_spectra(sim1, f, Fs, max_p, p_opt = None,crit_type = crit_type)\n",
        "\n",
        "print(\"Multivariate spectral analysis completed!\")\n",
        "print(\"Note the single optimal order for the entire system\")\n",
        "print(\"Note also that it is lower than the maximum order used for bivariate analysis\")"
      ]
    },
    {
      "cell_type": "markdown",
      "id": "371f290d",
      "metadata": {
        "id": "371f290d"
      },
      "source": [
        "## **Compare Spectral Estimates**\n",
        "\n",
        "Visualize the **auto-spectra** (diagonal) and **cross-spectra** (off-diagonal) for both approaches."
      ]
    },
    {
      "cell_type": "code",
      "execution_count": null,
      "id": "03ca91d2",
      "metadata": {
        "id": "03ca91d2"
      },
      "outputs": [],
      "source": [
        "# Plot bivariate spectra\n",
        "mvar_plot(S_bivariate, S_bivariate, f, 'Chan.', 'Chan. ', sim_chan_names,\n",
        "          'Bivariate \\n Spectrum (diagonal) \\n Cross-spectrum (off-diagonal)', 'sqrt')\n",
        "plt.show()\n",
        "\n",
        "# Plot multivariate spectra\n",
        "mvar_plot(S_multivariate, S_multivariate, f, 'Chan.', 'Chan. ', sim_chan_names,\n",
        "          'Multivariate \\n Spectrum (diagonal) \\n Cross-spectrum (off-diagonal)', 'sqrt')\n",
        "plt.show()\n",
        "\n",
        "print(\"\\n Key Observations:\")\n",
        "print(\"   Compare the cross-spectral patterns between methods\")\n",
        "print(\"   Notice differences in spectral estimates\")\n",
        "print(\"   Both should show strong alpha peak (~10 Hz)\")"
      ]
    },
    {
      "cell_type": "markdown",
      "id": "bbfc2ecb",
      "metadata": {
        "id": "bbfc2ecb"
      },
      "source": [
        "# **Directed Transfer Function (DTF) Analysis**\n",
        "\n",
        "## **Understanding DTF**\n",
        "\n",
        "The **Directed Transfer Function (DTF)** quantifies the **directional connectivity** between channels:\n",
        "\n",
        "- **DTF(i→j,f)**: Information flow from channel i to channel j at frequency f\n",
        "- **Frequency-specific**: Reveals connectivity patterns in different frequency bands\n",
        "- **Directional**: Shows the direction of information flow\n",
        "---\n",
        "\n",
        "## **Bivariate DTF Computation**"
      ]
    },
    {
      "cell_type": "code",
      "execution_count": null,
      "id": "1a1fdd71",
      "metadata": {
        "id": "1a1fdd71"
      },
      "outputs": [],
      "source": [
        "DTF_bi = DTF_bivariate(sim1, f, Fs, max_p=20, p_opt=None, crit_type='AIC')\n",
        "print(\"Bivariate DTF computation completed!\")"
      ]
    },
    {
      "cell_type": "markdown",
      "id": "9865a50c",
      "metadata": {
        "id": "9865a50c"
      },
      "source": [
        "## **Multivariate DTF Computation**"
      ]
    },
    {
      "cell_type": "code",
      "execution_count": null,
      "id": "07f3ab83",
      "metadata": {
        "id": "07f3ab83"
      },
      "outputs": [],
      "source": [
        "DTF = DTF_multivariate(sim1, f, Fs, max_p=20, p_opt=None, crit_type='AIC')\n",
        "print(\"Multivariate DTF computation completed!\")"
      ]
    },
    {
      "cell_type": "markdown",
      "id": "f6d0a3f8",
      "metadata": {
        "id": "f6d0a3f8"
      },
      "source": [
        "## **DTF Results: Matrix Visualization**\n",
        "\n",
        "Compare DTF patterns between bivariate and multivariate approaches in **matrix form**."
      ]
    },
    {
      "cell_type": "code",
      "execution_count": null,
      "id": "a0651297",
      "metadata": {
        "id": "a0651297"
      },
      "outputs": [],
      "source": [
        "# Plot bivariate DTF\n",
        "mvar_plot(S_bivariate, DTF_bi, f, 'From ', 'To ', sim_chan_names, 'Bivariate DTF', 'sqrt')\n",
        "\n",
        "# Plot multivariate DTF\n",
        "mvar_plot(S_multivariate, DTF, f, 'From ', 'To ', sim_chan_names, 'Multivariate DTF', 'sqrt')"
      ]
    },
    {
      "cell_type": "markdown",
      "id": "4f539842",
      "metadata": {
        "id": "4f539842"
      },
      "source": [
        "## **Network Graph Visualization**\n",
        "Visualize connectivity as **directed graphs** focused on the **alpha frequency band (8-12 Hz)**."
      ]
    },
    {
      "cell_type": "code",
      "execution_count": null,
      "id": "21d92c67",
      "metadata": {
        "id": "21d92c67"
      },
      "outputs": [],
      "source": [
        "# Create side-by-side network graphs\n",
        "fig, axs = plt.subplots(1, 2, figsize=(15, 6))\n",
        "f_range = (8, 12)  # Alpha frequency band\n",
        "\n",
        "print(f\"Creating network graphs for alpha band ({f_range[0]}-{f_range[1]} Hz)...\")\n",
        "\n",
        "# Bivariate network\n",
        "G_bivariate = graph_plot(DTF_bi, axs[0], f, f_range, sim_chan_names, 'Bivariate DTF\\n(Alpha Band)')\n",
        "\n",
        "# Multivariate network\n",
        "G_multivariate = graph_plot(DTF, axs[1], f, f_range, sim_chan_names, 'Multivariate DTF\\n(Alpha Band)')\n",
        "\n",
        "plt.tight_layout()\n",
        "plt.show()\n",
        "\n",
        "print(\"\\n Network Analysis:\")\n",
        "print(\"   Left: Bivariate approach - Note spurious bidirectional connections\")\n",
        "print(\"   Right: Multivariate approach - Cleaner unidirectional pattern\")\n",
        "print(\"   Expected: Channel 0 as the main driver\")\n",
        "print(\"   Bivariate shows many false connections due to indirect coupling\")"
      ]
    },
    {
      "cell_type": "markdown",
      "source": [
        "Compare the gfraph to the simulation scheme:\n",
        "\n",
        "<img src=\"https://raw.githubusercontent.com/jzygierewicz/SYNCCIN_2025_summer_school/main/5chan_sim.png\" alt=\"5-Channel Simulation Structure\" width=\"50%\"/>"
      ],
      "metadata": {
        "id": "qKsk1TirpyEm"
      },
      "id": "qKsk1TirpyEm"
    },
    {
      "cell_type": "markdown",
      "id": "48f56efc",
      "metadata": {
        "id": "48f56efc"
      },
      "source": [
        "# **Key Findings: Complete 5-Channel Analysis**\n",
        "### **Bivariate Approach Limitations:**\n",
        "- **Spurious connections**: Many false bidirectional links\n",
        "- **Indirect coupling**: Cannot distinguish direct from indirect connections\n",
        "- **Overestimation**: Shows more connections than actually exist\n",
        "\n",
        "### **Multivariate Approach Advantages:**\n",
        "- **Accurate detection**: Correctly identifies Channel 0 as driver\n",
        "- **Direct connections**: Reveals true connectivity structure\n",
        "- **System perspective**: Considers all channels simultaneously\n",
        "- **Cleaner results**: Fewer spurious connections\n",
        "\n",
        "---\n"
      ]
    },
    {
      "cell_type": "markdown",
      "id": "b9abc6ba",
      "metadata": {
        "id": "b9abc6ba"
      },
      "source": [
        "\n",
        "# **Experiment 2: Missing Driver Channel Effect**\n",
        "\n",
        "## **Research Question**\n",
        "\n",
        "**What happens when the true driving channel is missing from the analysis?**\n",
        "\n",
        "This is a **critical real-world scenario** in EEG analysis:\n",
        "- **Limited electrode coverage**: Not all brain regions recorded\n",
        "- **Artifact rejection**: Key channels may be excluded\n",
        "- **Deep sources**: Subcortical drivers not directly observable\n",
        "\n",
        "## **Simulate Missing Driver**\n",
        "\n",
        "Replace Channel 0 (the true driver) with **random noise** to simulate a missing or corrupted channel."
      ]
    },
    {
      "cell_type": "code",
      "execution_count": null,
      "id": "7137d7a1",
      "metadata": {
        "id": "7137d7a1"
      },
      "outputs": [],
      "source": [
        "sim1_missing = np.vstack((\n",
        "    np.random.randn(N_samp),  # Noise channel replacing true driver\n",
        "    x2[3*dt:-1*dt],           # Channel 1: still delayed copy of original\n",
        "    x3[2*dt:-2*dt],           # Channel 2: still delayed copy of original\n",
        "    x4[1*dt:-3*dt],           # Channel 3: still delayed copy of original\n",
        "    x5[:-4*dt]                # Channel 4: still delayed copy of original\n",
        "))\n",
        "\n",
        "[N_chan, N_samp] = sim1_missing.shape\n",
        "\n",
        "print(f\"Modified simulation: {N_chan} channels × {N_samp} samples\")\n",
        "print(f\"Channel 0: Random noise (simulated missing driver)\")\n",
        "print(f\"Channels 1-4: Still contain delayed copies of original signal\")\n",
        "print(f\"Question: Which channel will appear as the new 'driver'?\")"
      ]
    },
    {
      "cell_type": "markdown",
      "id": "1983fcc1",
      "metadata": {
        "id": "1983fcc1"
      },
      "source": [
        "## **Recompute DTF with Missing Driver**\n",
        "\n",
        "Analyze the same system but with the true driver channel replaced by noise."
      ]
    },
    {
      "cell_type": "code",
      "execution_count": null,
      "id": "e764ef61",
      "metadata": {
        "id": "e764ef61"
      },
      "outputs": [],
      "source": [
        "# Bivariate analysis with missing driver\n",
        "S_bivariate_missing = bivariate_spectra(sim1_missing, f, Fs, max_p,  p_opt = None,crit_type = crit_type)\n",
        "DTF_bi_missing = DTF_bivariate(sim1_missing, f, Fs, max_p=20, p_opt=None, crit_type=crit_type)\n",
        "\n",
        "# Multivariate analysis with missing driver\n",
        "S_multivariate_missing = multivariate_spectra(sim1_missing, f, Fs, max_p,  p_opt = None,crit_type = crit_type)\n",
        "DTF_missing = DTF_multivariate(sim1_missing, f, Fs, max_p=20, p_opt=None, crit_type=crit_type)"
      ]
    },
    {
      "cell_type": "markdown",
      "id": "1c64a87d",
      "metadata": {
        "id": "1c64a87d"
      },
      "source": [
        "## **Missing Driver Results: Matrix View**"
      ]
    },
    {
      "cell_type": "code",
      "execution_count": null,
      "id": "27aae461",
      "metadata": {
        "id": "27aae461"
      },
      "outputs": [],
      "source": [
        "\n",
        "mvar_plot(S_bivariate_missing, DTF_bi_missing, f, 'From ', 'To ', sim_chan_names,\n",
        "          'Bivariate DTF (Missing Driver)', 'sqrt')\n",
        "mvar_plot(S_multivariate_missing, DTF_missing, f, 'From ', 'To ', sim_chan_names,\n",
        "          'Multivariate DTF (Missing Driver)', 'sqrt')\n",
        "plt.show()\n",
        "\n",
        "print(\"\\n Key Questions to Consider:\")\n",
        "print(\"   Which channel now appears as the driver?\")\n",
        "print(\"   How do the connectivity patterns differ?\")\n",
        "print(\"   Can we detect that the true driver is missing?\")"
      ]
    },
    {
      "cell_type": "markdown",
      "id": "a99c5b66",
      "metadata": {
        "id": "a99c5b66"
      },
      "source": [
        "## **Missing Driver: Network Visualization**"
      ]
    },
    {
      "cell_type": "code",
      "execution_count": null,
      "id": "a86ac7ba",
      "metadata": {
        "id": "a86ac7ba"
      },
      "outputs": [],
      "source": [
        "fig, axs = plt.subplots(1, 2, figsize=(15, 6))\n",
        "f_range = (8, 12)  # Alpha frequency band\n",
        "\n",
        "G_bivariate_missing = graph_plot(DTF_bi_missing, axs[0], f, f_range, sim_chan_names,\n",
        "                                'Bivariate DTF\\n(Missing Driver)')\n",
        "G_multivariate_missing = graph_plot(DTF_missing, axs[1], f, f_range, sim_chan_names,\n",
        "                                   'Multivariate DTF\\n(Missing Driver)')\n",
        "plt.tight_layout()\n",
        "plt.show()"
      ]
    },
    {
      "cell_type": "markdown",
      "id": "68b6c685",
      "metadata": {
        "id": "68b6c685"
      },
      "source": [
        "### **Missing Driver Channel Effects**\n",
        "- **Driver substitution**: Channel with shortest delay becomes apparent driver\n",
        "- **Method limitation**: Even multivariate analysis fails with missing drivers\n",
        "- **Pattern distortion**: Connectivity structure changes dramatically\n",
        "- **Clinical insight**: Emphasizes importance of careful consideration of recording channels\n",
        "---\n",
        "\n",
        "\n",
        "#### **Mitigation Strategies:**\n",
        "- **Dense arrays**: Use high-density EEG when possible\n",
        "- **Multiple analyses**: Test different channel combinations\n",
        "- **Consistency checks**: Compare results across methods\n",
        "- **Prior knowledge**: Incorporate anatomical/physiological constraints\n",
        "\n",
        "---\n",
        "\n",
        "**Educational Materials**: [SYNCCIN 2025 Repository](https://github.com/jzygierewicz/SYNCCIN_2025_summer_school)\n",
        "- **Author**: Jarosław Żygierewicz\n",
        "- **Institution**: University of Warsaw\n",
        "- **Event**: SYNCCIN 2025 Summer School\n"
      ]
    }
  ],
  "metadata": {
    "kernelspec": {
      "display_name": "Python 3",
      "language": "python",
      "name": "python3"
    },
    "language_info": {
      "codemirror_mode": {
        "name": "ipython",
        "version": 3
      },
      "file_extension": ".py",
      "mimetype": "text/x-python",
      "name": "python",
      "nbconvert_exporter": "python",
      "pygments_lexer": "ipython3",
      "version": "3.11.6"
    },
    "colab": {
      "provenance": []
    }
  },
  "nbformat": 4,
  "nbformat_minor": 5
}