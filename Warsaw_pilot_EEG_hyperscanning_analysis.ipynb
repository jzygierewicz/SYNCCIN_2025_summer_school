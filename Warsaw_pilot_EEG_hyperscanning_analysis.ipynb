{
 "cells": [
  {
   "cell_type": "markdown",
   "id": "7532aedd",
   "metadata": {},
   "source": [
    "# Warsaw Pilot EEG/HRV Hyperscanning Analysis\n",
    "\n",
    "**SYNCCIN 2025 Summer School**\n",
    "\n",
    "\n",
    "[![Open In Colab](https://colab.research.google.com/assets/colab-badge.svg)](https://colab.research.google.com/github/jzygierewicz/SYNCCIN_2025_summer_school/blob/main/Warsaw_Pilot_EEG_Hyperscanning_Analysis.ipynb)\n",
    "\n",
    "---\n",
    "\n",
    "## **Learning Objectives**\n",
    "\n",
    "\n",
    "This notebook demonstrates EEG connectivity analysis using real hyperscanning data from child-caregiver dyads. The analysis includes:\n",
    "\n",
    "- Data loading and preprocessing\n",
    "- Directed Transfer Function (DTF) analysis for connectivity in HRV in a hyperscanning settings\n",
    "- Directed Transfer Function (DTF) analysis for connectivity in EEG - each member of the diad separately\n",
    "- Selection of effect of interest\n",
    "- Multimodal connectivity between EEG theta activity and heart rate variability in the hyperscannig settings\n",
    "\n",
    "**Data Source**: Real hyperscanning experiment with child-caregiver pairs watching movies and during talk sessions."
   ]
  },
  {
   "cell_type": "markdown",
   "id": "a740845d",
   "metadata": {},
   "source": [
    "## Setup and Data Download\n",
    "\n",
    "First, we need to download the required data files and install dependencies."
   ]
  },
  {
   "cell_type": "code",
   "execution_count": null,
   "id": "3f3ad751",
   "metadata": {},
   "outputs": [],
   "source": [
    "# Install required packages for Google Colab\n",
    "import sys\n",
    "if 'google.colab' in sys.modules:\n",
    "    !pip install xmltodict neurokit2 plotly\n",
    "\n",
    "# Download data files from the university server\n",
    "import os\n",
    "import urllib.request\n",
    "\n",
    "# Create data directory\n",
    "os.makedirs('W_009', exist_ok=True)\n",
    "\n",
    "# Base URL for data files\n",
    "base_url = \"https://www.fuw.edu.pl/~jarekz/HeidelbergSchool/W_009/\"\n",
    "\n",
    "# List of files to download\n",
    "files_to_download = [\n",
    "    \"W_009.obci.raw\",\n",
    "    \"W_009.obci.xml\", \n",
    "    \"W_009.obci.tag\",\n",
    "    \"2025_07_03_15_50_W_009_stage_timings.txt\",\n",
    "    \"W_009_03_07_2025_14_56_A839C92B_ECG.csv\",\n",
    "    \"W_009_03_07_2025_14_56_A839C92B_IBI.csv\",\n",
    "    \"W_009_03_07_2025_14_56_A83E1E24_ECG.csv\",\n",
    "    \"W_009_03_07_2025_14_56_A83E1E24_IBI.csv\"\n",
    "]\n",
    "\n",
    "print(\"Downloading W_009 dataset...\")\n",
    "for filename in files_to_download:\n",
    "    file_path = f\"W_009/{filename}\"\n",
    "    if not os.path.exists(file_path):\n",
    "        print(f\"Downloading {filename}...\")\n",
    "        try:\n",
    "            urllib.request.urlretrieve(f\"{base_url}{filename}\", file_path)\n",
    "            print(f\"Downloaded {filename}\")\n",
    "        except Exception as e:\n",
    "            print(f\"Failed to download {filename}: {e}\")\n",
    "    else:\n",
    "        print(f\"{filename} already exists\")\n",
    "\n",
    "print(\"Data download complete!\")"
   ]
  },
  {
   "cell_type": "code",
   "execution_count": null,
   "id": "371c02e2",
   "metadata": {},
   "outputs": [],
   "source": [
    "# Download required Python modules\n",
    "modules_url = \"https://raw.githubusercontent.com/jzygierewicz/SYNCCIN_2025_summer_school/main/\"\n",
    "\n",
    "modules_to_download = [\"mtmvar.py\", \"utils.py\"]\n",
    "\n",
    "for module in modules_to_download:\n",
    "    if not os.path.exists(module):\n",
    "        print(f\"Downloading {module}...\")\n",
    "        try:\n",
    "            urllib.request.urlretrieve(f\"{modules_url}{module}\", module)\n",
    "            print(f\"Downloaded {module}\")\n",
    "        except Exception as e:\n",
    "            print(f\"Failed to download {module}: {e}\")\n",
    "    else:\n",
    "        print(f\"{module} already exists\")"
   ]
  },
  {
   "cell_type": "markdown",
   "id": "c3d2b65a",
   "metadata": {},
   "source": [
    "## Import Libraries\n",
    "\n",
    "Import all necessary libraries for data processing, visualization, and connectivity analysis."
   ]
  },
  {
   "cell_type": "code",
   "execution_count": null,
   "id": "6de4bacc",
   "metadata": {},
   "outputs": [],
   "source": [
    "import numpy as np\n",
    "import matplotlib.pyplot as plt\n",
    "import plotly.graph_objects as go\n",
    "import plotly.express as px\n",
    "from plotly.subplots import make_subplots\n",
    "from scipy.signal import butter, iirnotch, filtfilt, sosfiltfilt, decimate, hilbert, welch\n",
    "from scipy.stats import zscore\n",
    "from mtmvar import (mvar_criterion, AR_coeff, mvar_H, mvar_plot, mvar_plot_dense, \n",
    "                   mvar_spectra, DTF_multivariate, multivariate_spectra, graph_plot)\n",
    "from utils import (load_warsaw_pilot_data, scan_for_events, filter_warsaw_pilot_data, \n",
    "                  get_IBI_signal_from_ECG_for_selected_event, get_data_for_selected_channel_and_event,\n",
    "                  plot_EEG_channels, plot_EEG_channels_pl, overlay_EEG_channels_hyperscanning_pl, \n",
    "                  overlay_EEG_channels_hyperscanning)\n",
    "\n",
    "print(\"All libraries imported successfully!\")"
   ]
  },
  {
   "cell_type": "markdown",
   "id": "9ba0a664",
   "metadata": {},
   "source": [
    "## Configuration and Data Loading\n",
    "\n",
    "Set up analysis parameters and load the raw EEG/ECG data."
   ]
  },
  {
   "cell_type": "code",
   "execution_count": null,
   "id": "7fcd0d98",
   "metadata": {},
   "outputs": [],
   "source": [
    "# Configuration\n",
    "folder = './W_009/'\n",
    "file = 'W_009.obci'\n",
    "selected_events = ['Movie_1']  # Focus on Movie_1 event for this analysis\n",
    "\n",
    "print(f\"Loading data from {folder}{file}...\")"
   ]
  },
  {
   "cell_type": "markdown",
   "id": "e4950bb7",
   "metadata": {},
   "source": [
    "### Read and preprocess the data"
   ]
  },
  {
   "cell_type": "code",
   "execution_count": null,
   "id": "7135f946",
   "metadata": {},
   "outputs": [],
   "source": [
    "# Read raw data \n",
    "data = load_warsaw_pilot_data(folder, file, plot=False)\n",
    "\n",
    "# Detect events from diode signal\n",
    "events = scan_for_events(data, plot=False)\n",
    "\n",
    "# Apply filtering and preprocessing\n",
    "filtered_data = filter_warsaw_pilot_data(data)\n",
    "\n",
    "print(\"Data loading and preprocessing complete!\")\n",
    "print(f\"Data shape: {filtered_data['data'].shape}\")\n",
    "print(f\"Sampling frequency (EEG): {filtered_data['Fs_EEG']} Hz\")\n",
    "print(f\"Events detected: {events}\")"
   ]
  },
  {
   "cell_type": "markdown",
   "id": "9c8d6157",
   "metadata": {},
   "source": [
    "## Data Exploration\n",
    "\n",
    "Examine the structure of the filtered data and visualize ECG/IBI signals."
   ]
  },
  {
   "cell_type": "code",
   "execution_count": null,
   "id": "f24933dc",
   "metadata": {},
   "outputs": [],
   "source": [
    "print(\"=== Data Overview ===\")\n",
    "print(f\"Filtered data shape: {filtered_data['data'].shape}\")\n",
    "print(f\"Child EEG channels: {filtered_data['EEG_channels_ch']}\")\n",
    "print(f\"Caregiver EEG channels: {filtered_data['EEG_channels_cg']}\")\n",
    "print(f\"Events detected: {events}\")"
   ]
  },
  {
   "cell_type": "markdown",
   "id": "4ba3385e",
   "metadata": {},
   "source": [
    "### Interactive EEG channel visualization using Plotly"
   ]
  },
  {
   "cell_type": "code",
   "execution_count": null,
   "id": "651e55b8",
   "metadata": {},
   "outputs": [],
   "source": [
    "plot_EEG_channels_pl(filtered_data, events, filtered_data['EEG_channels_ch'], \n",
    "                    title='Filtered Child EEG Channels (Interactive)', renderer='notebook')\n",
    "plot_EEG_channels_pl(filtered_data, events, filtered_data['EEG_channels_cg'], \n",
    "                    title='Filtered Caregiver EEG Channels (Interactive)', renderer='notebook')"
   ]
  },
  {
   "cell_type": "markdown",
   "id": "882db5b9",
   "metadata": {},
   "source": [
    "## Select the events to analyse"
   ]
  },
  {
   "cell_type": "code",
   "execution_count": null,
   "id": "56058bf5",
   "metadata": {},
   "outputs": [],
   "source": [
    "selected_events = ['Movie_1'] # you may also like to try other events, they can be added to the list: 'Movie_2', 'Movie_3', 'Talk_1', 'Talk_2'"
   ]
  },
  {
   "cell_type": "markdown",
   "id": "361ae560",
   "metadata": {},
   "source": [
    "## Heart Rate Variability DTF Analysis\n",
    "\n",
    "Analyze connectivity between child and caregiver heart rate variability using DTF."
   ]
  },
  {
   "cell_type": "code",
   "execution_count": null,
   "id": "1fa66fb3",
   "metadata": {},
   "outputs": [],
   "source": [
    "# Frequency vector for DTF estimation\n",
    "f = np.arange(0.01, 1, 0.01)\n",
    "\n",
    "for event in selected_events:\n",
    "    if event in events:\n",
    "        print(f\"\\nAnalyzing event: {event}\")\n",
    "        \n",
    "        # Extract IBI signals for the selected event\n",
    "        IBI_ch_interp, IBI_cg_interp, t_IBI = get_IBI_signal_from_ECG_for_selected_event(\n",
    "            filtered_data, events, event, plot=False, label=f'IBI signals for {event}')\n",
    "        \n",
    "        # Z-score normalize the IBI signals\n",
    "        IBI_ch_interp = zscore(IBI_ch_interp)\n",
    "        IBI_cg_interp = zscore(IBI_cg_interp)\n",
    "        \n",
    "        # Construct data array for DTF analysis\n",
    "        data = np.zeros((2, 60 * filtered_data['Fs_IBI']))\n",
    "        data[0, :] = IBI_ch_interp\n",
    "        data[1, :] = IBI_cg_interp\n",
    "        \n",
    "        # Estimate multivariate spectra and DTF\n",
    "        S = multivariate_spectra(data, f, Fs=filtered_data['Fs_IBI'], max_p=15, p_opt=None, crit_type='AIC')\n",
    "        DTF = DTF_multivariate(data, f, Fs=filtered_data['Fs_IBI'], max_p=15, p_opt=None, crit_type='AIC')\n",
    "        \n",
    "        # Plot DTF results\n",
    "        mvar_plot(S, DTF, f, 'From', 'To', ['Child', 'Caregiver'], f'DTF {event}', 'sqrt')\n",
    "        plt.show()"
   ]
  },
  {
   "cell_type": "markdown",
   "id": "114eb943",
   "metadata": {},
   "source": [
    "## EEG Connectivity Analysis\n",
    "\n",
    "Analyze EEG connectivity within child and caregiver separately using DTF."
   ]
  },
  {
   "cell_type": "code",
   "execution_count": null,
   "id": "19e968ba",
   "metadata": {},
   "outputs": [],
   "source": [
    "# Frequency vector for EEG DTF estimation\n",
    "f = np.arange(1, 30, 0.5)\n",
    "\n",
    "# Selected EEG channels for analysis\n",
    "selected_channels_ch = ['Fp1', 'Fp2', 'F7', 'F3', 'Fz', 'F4', 'F8', 'C3', 'Cz', 'C4', 'P3', 'Pz', 'P4', 'O1', 'O2']\n",
    "selected_channels_cg = ['Fp1_cg', 'Fp2_cg', 'F7_cg', 'F3_cg', 'Fz_cg', 'F4_cg', 'F8_cg', 'C3_cg', 'Cz_cg', 'C4_cg', 'P3_cg', 'Pz_cg', 'P4_cg', 'O1_cg', 'O2_cg']\n",
    "\n",
    "for event in selected_events:\n",
    "    print(f\"\\nAnalyzing EEG connectivity for event: {event}\")\n",
    "    \n",
    "    # Extract EEG data for selected channels and event\n",
    "    data_ch = get_data_for_selected_channel_and_event(filtered_data, selected_channels_ch, events, event)\n",
    "    data_cg = get_data_for_selected_channel_and_event(filtered_data, selected_channels_cg, events, event)\n",
    "    \n",
    "    # Visualize EEG channels\n",
    "    overlay_EEG_channels_hyperscanning(data_ch, data_cg, filtered_data['channels'], event, \n",
    "                                        selected_channels_ch, selected_channels_cg, \n",
    "                                        title='Filtered EEG Channels - Hyperscanning')\n",
    "    plt.show()\n",
    "    \n",
    "    # Interactive visualization\n",
    "    overlay_EEG_channels_hyperscanning_pl(data_ch, data_cg, filtered_data['channels'], event, \n",
    "                                            selected_channels_ch, selected_channels_cg, \n",
    "                                            title='Filtered EEG Channels - Hyperscanning (Interactive)', \n",
    "                                            renderer='notebook')"
   ]
  },
  {
   "cell_type": "markdown",
   "id": "ba93f89c",
   "metadata": {},
   "source": [
    " # Continue with DTF analysis for EEG separately for each person"
   ]
  },
  {
   "cell_type": "code",
   "execution_count": null,
   "id": "42e74e04",
   "metadata": {},
   "outputs": [],
   "source": [
    "for event in selected_events:\n",
    "    print(f\"\\nDTF analysis for {event}\")\n",
    "    \n",
    "    data_ch = get_data_for_selected_channel_and_event(filtered_data, selected_channels_ch, events, event)\n",
    "    data_cg = get_data_for_selected_channel_and_event(filtered_data, selected_channels_cg, events, event)\n",
    "    \n",
    "    # Fixed model order for consistency\n",
    "    p_opt = 9\n",
    "    \n",
    "    # Child EEG DTF\n",
    "    print(\"Computing DTF for child EEG channels...\")\n",
    "    S = multivariate_spectra(data_ch, f, Fs=filtered_data['Fs_EEG'], max_p=15, p_opt=p_opt, crit_type='AIC')\n",
    "    DTF = DTF_multivariate(data_ch, f, Fs=filtered_data['Fs_EEG'], max_p=15, p_opt=p_opt, crit_type='AIC')\n",
    "    mvar_plot_dense(S, DTF, f, 'From', 'To', selected_channels_ch, f'DTF child {event}', 'sqrt')\n",
    "    plt.show()\n",
    "    \n",
    "    # Caregiver EEG DTF\n",
    "    print(\"Computing DTF for caregiver EEG channels...\")\n",
    "    S = multivariate_spectra(data_cg, f, Fs=filtered_data['Fs_EEG'], max_p=15, p_opt=p_opt, crit_type='AIC')\n",
    "    DTF = DTF_multivariate(data_cg, f, Fs=filtered_data['Fs_EEG'], max_p=15, p_opt=p_opt, crit_type='AIC')\n",
    "    mvar_plot_dense(S, DTF, f, 'From', 'To', selected_channels_cg, f'DTF caregiver {event}', 'sqrt')\n",
    "    plt.show()"
   ]
  },
  {
   "cell_type": "markdown",
   "id": "74fbe450",
   "metadata": {},
   "source": [
    "## Multimodal EEG-HRV Connectivity Analysis in Hyperscanning\n",
    "\n",
    "Analyze connectivity between EEG theta activity (Fz electrode) and heart rate variability for child and caregiver together.\n",
    "\n",
    "### First let's check that there is some activity in the selected electrode and frequency band."
   ]
  },
  {
   "cell_type": "code",
   "execution_count": null,
   "id": "7739c3d3",
   "metadata": {},
   "outputs": [],
   "source": [
    "# Selected channels for theta analysis\n",
    "selected_channels_ch = ['Fz']\n",
    "selected_channels_cg = ['Fz_cg']\n",
    "\n",
    "# define the chosen band, e.g., theta band (5-7.5 Hz)\n",
    "lowcut = 5.0\n",
    "highcut = 7.5\n",
    "\n",
    "for event in selected_events:\n",
    "    print(f\"\\nAnalyzing multimodal connectivity for event: {event}\")\n",
    "    \n",
    "    # Extract Fz channel data\n",
    "    data_ch = get_data_for_selected_channel_and_event(filtered_data, selected_channels_ch, events, event)\n",
    "    data_cg = get_data_for_selected_channel_and_event(filtered_data, selected_channels_cg, events, event)\n",
    "    \n",
    "    # Compute power spectral density\n",
    "    f_ch, Pxx_ch = welch(data_ch[0, :], fs=filtered_data['Fs_EEG'], nperseg=1024)\n",
    "    f_cg, Pxx_cg = welch(data_cg[0, :], fs=filtered_data['Fs_EEG'], nperseg=1024)\n",
    "    \n",
    "    # Plot power spectrum\n",
    "    plt.figure(figsize=(12, 6))\n",
    "    plt.plot(f_ch, Pxx_ch, label='Child Fz channel')\n",
    "    plt.plot(f_cg, Pxx_cg, label='Caregiver Fz_cg channel')\n",
    "    plt.title(f'Power Spectrum of {event} for Child and Caregiver Fz channels')\n",
    "    plt.xlabel('Frequency (Hz)')\n",
    "    plt.ylabel('Power Spectral Density (µV²/Hz)')\n",
    "    plt.axvspan(lowcut, highcut, color='yellow', alpha=0.5, label='Theta Band (5-7.5 Hz)')\n",
    "    plt.xlim(0, 30)\n",
    "    plt.legend()\n",
    "    plt.grid()\n",
    "    plt.show()"
   ]
  },
  {
   "cell_type": "markdown",
   "id": "4c6a90c7",
   "metadata": {},
   "source": [
    "### Preprocessing: \n",
    "- selecting the EEG electrode of interest\n",
    "- filtering the data in the chosen frequency band\n",
    "- calculating the instataneous amplitude of the selected band (at this point it is good to check if the envelope looks reasonably)\n",
    "- downsample the envelope to the same sampling frequency as the interpolated IBI signals\n",
    "- get the IBI signals\n",
    "- z-score the signals\n",
    "- create the multimodal data array \n",
    "Finally visualise the prepared set \n",
    "\n"
   ]
  },
  {
   "cell_type": "code",
   "execution_count": null,
   "id": "b8a4d55b",
   "metadata": {},
   "outputs": [],
   "source": [
    "# Design bandpass filter for the chosen band (lowcut, highcut)\n",
    "sos_theta = butter(4, [lowcut, highcut], btype='band', fs=filtered_data['Fs_EEG'], output='sos')\n",
    "\n",
    "for event in selected_events:\n",
    "    print(f\"Processing theta band activity for {event}\")\n",
    "    \n",
    "    data_ch = get_data_for_selected_channel_and_event(filtered_data, selected_channels_ch, events, event)\n",
    "    data_cg = get_data_for_selected_channel_and_event(filtered_data, selected_channels_cg, events, event)\n",
    "    \n",
    "    # Filter in theta band\n",
    "    data_ch_theta = sosfiltfilt(sos_theta, data_ch[0, :])\n",
    "    data_cg_theta = sosfiltfilt(sos_theta, data_cg[0, :])\n",
    "    \n",
    "    # Extract instantaneous amplitude using Hilbert transform\n",
    "    data_ch_theta_amp = np.abs(hilbert(data_ch_theta))\n",
    "    data_cg_theta_amp = np.abs(hilbert(data_cg_theta))\n",
    "    \n",
    "    # Plot theta amplitude and filtered signal\n",
    "    fig, ax = plt.subplots(2, 1, figsize=(12, 8), sharex=True)\n",
    "    ax[0].set_title(f'Child EEG channel Fz theta amplitude for {event}')\n",
    "    ax[1].set_title(f'Caregiver EEG channel Fz_cg theta amplitude for {event}')\n",
    "    ax[0].plot(data_ch_theta_amp, 'r', label='Fz theta amplitude')\n",
    "    ax[1].plot(data_cg_theta_amp, 'r', label='Fz_cg theta amplitude')\n",
    "    ax[0].plot(data_ch_theta, 'k', alpha=0.5, label='Fz theta filtered signal')\n",
    "    ax[1].plot(data_cg_theta, 'k', alpha=0.5, label='Fz_cg theta filtered signal')\n",
    "    ax[0].set_ylabel('Amplitude (µV)')\n",
    "    ax[1].set_ylabel('Amplitude (µV)')\n",
    "    ax[0].legend(loc='upper right')\n",
    "    ax[1].legend(loc='upper right')\n",
    "    plt.tight_layout()\n",
    "    plt.show()\n",
    "    \n",
    "    # Downsample theta amplitude to IBI frequency\n",
    "    data_ch_theta_amp = decimate(data_ch_theta_amp, filtered_data['Fs_EEG']//filtered_data['Fs_IBI'], axis=-1)\n",
    "    data_cg_theta_amp = decimate(data_cg_theta_amp, filtered_data['Fs_EEG']//filtered_data['Fs_IBI'], axis=-1)\n",
    "    \n",
    "    # Z-score normalize\n",
    "    data_ch_theta_amp = zscore(data_ch_theta_amp)\n",
    "    data_cg_theta_amp = zscore(data_cg_theta_amp)\n",
    "    \n",
    "    # Get IBI signals\n",
    "    IBI_ch_interp, IBI_cg_interp, t_IBI = get_IBI_signal_from_ECG_for_selected_event(\n",
    "        filtered_data, events, event, plot=False, label=f'IBI signals for {event}')\n",
    "    \n",
    "    # Z-score normalize IBI signals\n",
    "    IBI_ch_interp = zscore(IBI_ch_interp)\n",
    "    IBI_cg_interp = zscore(IBI_cg_interp)\n",
    "    \n",
    "    # Construct multimodal data array: [Child IBI, Caregiver IBI, Child Fz theta, Caregiver Fz theta]\n",
    "    DTF_data = np.zeros((4, len(data_ch_theta_amp)))\n",
    "    DTF_data[0, :] = IBI_ch_interp\n",
    "    DTF_data[1, :] = IBI_cg_interp\n",
    "    DTF_data[2, :] = data_ch_theta_amp\n",
    "    DTF_data[3, :] = data_cg_theta_amp\n",
    "    \n",
    "    # Plot multimodal signals\n",
    "    fig, ax = plt.subplots(4, 1, figsize=(12, 8), sharex=True)\n",
    "    signals = ['Child IBI signal', 'Caregiver IBI signal', 'Child Fz theta amplitude', 'Caregiver Fz_cg theta amplitude']\n",
    "    ylabels = ['IBI (ms)', 'IBI (ms)', 'Fz theta amplitude (µV)', 'Fz_cg theta amplitude (µV)']\n",
    "    colors = ['b', 'b', 'r', 'r']\n",
    "    \n",
    "    for i in range(4):\n",
    "        ax[i].set_title(f'{signals[i]} for {event}')\n",
    "        ax[i].plot(t_IBI, DTF_data[i, :], colors[i], label=signals[i])\n",
    "        ax[i].set_ylabel(ylabels[i])\n",
    "        ax[i].legend(loc='upper right')\n",
    "        \n",
    "    ax[3].set_xlabel('Time (s)')\n",
    "    plt.tight_layout()\n",
    "    plt.show()"
   ]
  },
  {
   "cell_type": "markdown",
   "id": "6977b92b",
   "metadata": {},
   "source": [
    "### Multimodal DTF analysis for EEG and IBI signals"
   ]
  },
  {
   "cell_type": "code",
   "execution_count": null,
   "id": "877d6f8f",
   "metadata": {},
   "outputs": [],
   "source": [
    "f = np.arange(0.01, 1, 0.01)\n",
    "# Channel names for visualization\n",
    "ChanNames = ['Ch IBI', 'Cg IBI', 'Ch Fz\\ntheta amp', 'Cg Fz_cg\\ntheta amp']\n",
    "\n",
    "for event in selected_events:\n",
    "    # Estimate multivariate spectra and DTF for the 4-variable system\n",
    "    S = multivariate_spectra(DTF_data, f, Fs=filtered_data['Fs_IBI'], max_p=15, p_opt=None, crit_type='AIC')\n",
    "    DTF = DTF_multivariate(DTF_data, f, Fs=filtered_data['Fs_IBI'], max_p=15, p_opt=None, crit_type='AIC')\n",
    "    \n",
    "    # Plot DTF results in table form\n",
    "    mvar_plot(S, DTF, f, 'From', 'To', ChanNames, f'DTF {event}', 'sqrt')\n",
    "    plt.show()\n",
    "    \n",
    "    # Plot DTF results in graph form for selected frequency range\n",
    "    fig, ax = plt.subplots(figsize=(10, 8))\n",
    "    graph_plot(connectivity_matrix=DTF, ax=ax, f=f, f_range=[0.2, 0.6], \n",
    "                ChanNames=ChanNames, title=f'DTF {event}')\n",
    "    plt.show()"
   ]
  },
  {
   "cell_type": "markdown",
   "id": "6f411bd3",
   "metadata": {},
   "source": [
    "## Summary and Conclusions\n",
    "\n",
    "This notebook demonstrated a comprehensive analysis of hyperscanning EEG data including:\n",
    "\n",
    "### Key Analysis Steps:\n",
    "1. **Data Loading**: Real EEG/ECG data from child-caregiver dyads\n",
    "2. **Preprocessing**: Filtering, artifact removal, and event detection\n",
    "3. **Visualizations**\n",
    "4. **Connectivity Analysis**: Directed Transfer Function (DTF) for multiple modalities\n",
    "\n",
    "### Analysis Types:\n",
    "- **HRV Connectivity**: Inter-subject heart rate variability coupling\n",
    "- **EEG Connectivity**: Within-subject EEG network analysis  \n",
    "- **Multimodal Connectivity**: EEG theta activity and HRV interactions\n",
    "\n",
    "### Technical Features:\n",
    "- IBI extraction and interpolation from ECG\n",
    "- Theta band filtering and instantaneous amplitude\n",
    "\n",
    "\n",
    "The analysis reveals connectivity patterns between physiological signals during naturalistic hyperscanning experiments, providing insights into dyadic coupling mechanisms."
   ]
  },
  {
   "cell_type": "markdown",
   "id": "4f62ddf7",
   "metadata": {},
   "source": []
  }
 ],
 "metadata": {
  "language_info": {
   "name": "python"
  }
 },
 "nbformat": 4,
 "nbformat_minor": 5
}
