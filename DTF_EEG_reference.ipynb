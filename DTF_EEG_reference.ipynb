{
  "cells": [
    {
      "cell_type": "markdown",
      "id": "d5afc8fe",
      "metadata": {
        "id": "d5afc8fe"
      },
      "source": [
        "# EEG DTF Analysis: Reference Electrode Effects\n",
        "\n",
        "**SYNCCIN 2025 Summer School - EEG Reference Comparison**\n",
        "\n",
        "[![Open In Colab](https://colab.research.google.com/assets/colab-badge.svg)](https://colab.research.google.com/github/jzygierewicz/SYNCCIN_2025_summer_school/blob/main/DTF_EEG_reference.ipynb)\n",
        "\n",
        "---\n",
        "\n",
        "**Learning Objectives**\n",
        "\n",
        "This notebook demonstrates how different EEG reference schemes affect DTF connectivity analysis:\n",
        "\n",
        "1. **Compare reference methods**: Linked ears vs. Common Average Reference (CAR)\n",
        "2. **Understand reference artifacts**: How reference choice impacts connectivity patterns\n",
        "3. **Apply to real EEG data recorded in 10-20 system**: Use actual alpha rhythm recordings\n",
        "\n",
        "---"
      ]
    },
    {
      "cell_type": "markdown",
      "id": "39567de1",
      "metadata": {
        "id": "39567de1"
      },
      "source": [
        "## Setup: Install Dependencies & Download Data\n",
        "\n",
        "Install required packages and download EEG data and analysis modules."
      ]
    },
    {
      "cell_type": "code",
      "execution_count": null,
      "id": "6cc24dec",
      "metadata": {
        "id": "6cc24dec"
      },
      "outputs": [],
      "source": [
        "# Install required packages\n",
        "!pip install joblib networkx  xmltodict neurokit2 -q\n",
        "\n",
        "print(\"All packages installed successfully!\")"
      ]
    },
    {
      "cell_type": "markdown",
      "id": "d4c286b9",
      "metadata": {
        "id": "d4c286b9"
      },
      "source": [
        "## Download Required Files\n",
        "\n",
        "Download EEG data and Python analysis modules from the GitHub repository."
      ]
    },
    {
      "cell_type": "code",
      "execution_count": null,
      "id": "4c8af7ce",
      "metadata": {
        "id": "4c8af7ce"
      },
      "outputs": [],
      "source": [
        "import urllib.request\n",
        "import os\n",
        "\n",
        "# Base URL for the GitHub repository\n",
        "base_url = \"https://raw.githubusercontent.com/jzygierewicz/SYNCCIN_2025_summer_school/main/\"\n",
        "\n",
        "# Files to download\n",
        "files_to_download = [\n",
        "    \"EEG_alpha.joblib\",  # Real EEG data with alpha rhythm\n",
        "    \"mtmvar.py\",\n",
        "    \"utils.py\"\n",
        "]\n",
        "\n",
        "print(\"Downloading files from GitHub repository...\")\n",
        "\n",
        "for file in files_to_download:\n",
        "    if not os.path.exists(file):\n",
        "        try:\n",
        "            urllib.request.urlretrieve(base_url + file, file)\n",
        "            print(f\"Downloaded: {file}\")\n",
        "        except Exception as e:\n",
        "            print(f\"Error downloading {file}: {e}\")\n",
        "    else:\n",
        "        print(f\"Already exists: {file}\")\n",
        "\n",
        "print(\"\\nAll files ready for analysis!\")"
      ]
    },
    {
      "cell_type": "markdown",
      "id": "f9eabd84",
      "metadata": {
        "id": "f9eabd84"
      },
      "source": [
        "## Import Libraries and Load Data\n",
        "\n",
        "Import analysis libraries and load the EEG alpha rhythm dataset."
      ]
    },
    {
      "cell_type": "code",
      "execution_count": null,
      "id": "56991484",
      "metadata": {
        "id": "56991484"
      },
      "outputs": [],
      "source": [
        "import matplotlib.pyplot as plt\n",
        "import numpy as np\n",
        "import scipy.io\n",
        "import joblib\n",
        "import networkx as nx\n",
        "\n",
        "# Local imports\n",
        "from mtmvar import mvar_plot_dense, DTF_multivariate, multivariate_spectra\n",
        "from utils import describe_dict\n",
        "\n",
        "# Load EEG data\n",
        "data = joblib.load('EEG_alpha.joblib')\n",
        "print('EEG Data Contents:')\n",
        "describe_dict(data)\n",
        "\n",
        "N_chan = data['EEG'].shape[0]\n",
        "Fs = data['Fs'].item()"
      ]
    },
    {
      "cell_type": "markdown",
      "id": "714a0665",
      "metadata": {
        "id": "714a0665"
      },
      "source": [
        "# DTF Analysis with Linked Ears Reference\n",
        "\n",
        "## Configure Analysis Parameters\n",
        "\n",
        "Set up frequency range and model parameters for DTF analysis. We propose anlysing results for alpha and beta bands separately."
      ]
    },
    {
      "cell_type": "code",
      "execution_count": null,
      "id": "51e33f7e",
      "metadata": {
        "id": "51e33f7e"
      },
      "outputs": [],
      "source": [
        "# f = np.arange(15, 25, 0.1)  # beta\n",
        "f = np.arange(7, 15, 0.1)   # alpha frequency range 7-15 Hz\n",
        "N_f = f.shape[0]\n",
        "max_p = 25  # Maximum model order\n",
        "p_opt = None  # Let algorithm select optimal order\n",
        "crit_type = 'AIC'  # Information criterion"
      ]
    },
    {
      "cell_type": "markdown",
      "id": "7231665f",
      "metadata": {
        "id": "7231665f"
      },
      "source": [
        "## Multivariate DTF - Linked Ears Reference\n",
        "\n",
        "Compute DTF using the original linked ears reference."
      ]
    },
    {
      "cell_type": "code",
      "execution_count": null,
      "id": "0dae3e43",
      "metadata": {
        "id": "0dae3e43"
      },
      "outputs": [],
      "source": [
        "S_multivariate = multivariate_spectra(data['EEG'], f, Fs, max_p, p_opt=p_opt, crit_type=crit_type)\n",
        "DTF = DTF_multivariate(data['EEG'], f, Fs, max_p, p_opt=p_opt, crit_type=crit_type)\n",
        "\n",
        "mvar_plot_dense(S_multivariate, DTF, f, 'From\\n', 'To\\n', data['ChanNames'],\n",
        "                'DTF - LER', 'sqrt')\n",
        "plt.show()"
      ]
    },
    {
      "cell_type": "markdown",
      "id": "77587778",
      "metadata": {
        "id": "77587778"
      },
      "source": [
        "# DTF Analysis with Common Average Reference (CAR)\n",
        "\n",
        "## Apply CAR and Handle Rank Deficiency\n",
        "\n",
        "Rereference to Common Average Reference and handle the resulting rank deficiency."
      ]
    },
    {
      "cell_type": "code",
      "execution_count": null,
      "id": "552c0f6b",
      "metadata": {
        "id": "552c0f6b"
      },
      "outputs": [],
      "source": [
        "# Apply CAR transformation\n",
        "data_car = data['EEG'] - np.mean(data['EEG'], axis=0, keepdims=True)\n",
        "\n",
        "# Handle rank deficiency by replacing one channel with noise\n",
        "# T3 is chosen as it showed minimal connectivity in linked ears analysis\n",
        "t3_index = data['ChanNames'].index('T3')\n",
        "data_car[t3_index, :] = np.random.randn(*data_car[t3_index, :].shape)\n",
        "\n",
        "print(f\"CAR applied. Channel {data['ChanNames'][t3_index]} replaced with noise to handle rank deficiency.\")"
      ]
    },
    {
      "cell_type": "markdown",
      "id": "8c51308b",
      "metadata": {
        "id": "8c51308b"
      },
      "source": [
        "## Multivariate DTF - CAR Reference\n",
        "\n",
        "Compute DTF using the Common Average Reference."
      ]
    },
    {
      "cell_type": "code",
      "execution_count": null,
      "id": "5290ac71",
      "metadata": {
        "id": "5290ac71"
      },
      "outputs": [],
      "source": [
        "S_multivariate_CAR = multivariate_spectra(data_car, f, Fs, max_p, p_opt=p_opt, crit_type=crit_type)\n",
        "DTF_CAR = DTF_multivariate(data_car, f, Fs, max_p, p_opt=p_opt, crit_type=crit_type)\n",
        "\n",
        "mvar_plot_dense(S_multivariate_CAR, DTF_CAR, f, 'From\\n', 'To\\n', data['ChanNames'],\n",
        "                'DTF - CAR', 'sqrt')\n",
        "plt.show()"
      ]
    },
    {
      "cell_type": "markdown",
      "id": "4bb46c4d",
      "metadata": {
        "id": "4bb46c4d"
      },
      "source": [
        "# Reference Comparison and Conclusions\n",
        "\n",
        "## Key Observations\n",
        "\n",
        "**Linked Ears Reference:**\n",
        "- Traditional choice\n",
        "- Generally provides cleaner connectivity patterns\n",
        "\n",
        "**Common Average Reference (CAR):**\n",
        "- Requires handling rank deficiency (one channel must be removed/replaced)\n",
        "- Introduces a mixture of phases from all channels to all other channels\n",
        "- May introduce artificial connectivity due to reference contamination\n",
        "- Can create interpretation challenges\n",
        "\n",
        "\n",
        "## Clinical Implications\n",
        "- **Reference choice matters**: Different references can lead to different connectivity conclusions\n",
        "\n",
        "## Methodological Notes\n",
        "- Consider reference choice when comparing studies or interpreting results\n",
        "\n",
        "---\n",
        "\n",
        "**Educational Materials**: [SYNCCIN 2025 Repository](https://github.com/jzygierewicz/SYNCCIN_2025_summer_school)\n",
        "\n",
        "**Contact**:\n",
        "- **Author**: Jarosław Żygierewicz\n",
        "- **Institution**: University of Warsaw  \n",
        "- **Event**: SYNCCIN 2025 Summer School"
      ]
    },
    {
      "cell_type": "markdown",
      "id": "91c5d9b6",
      "metadata": {
        "id": "91c5d9b6"
      },
      "source": []
    }
  ],
  "metadata": {
    "language_info": {
      "name": "python"
    },
    "colab": {
      "provenance": []
    },
    "kernelspec": {
      "name": "python3",
      "display_name": "Python 3"
    }
  },
  "nbformat": 4,
  "nbformat_minor": 5
}