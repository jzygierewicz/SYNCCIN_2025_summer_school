{
 "cells": [
  {
   "cell_type": "markdown",
   "id": "d5afc8fe",
   "metadata": {},
   "source": [
    "# EEG DTF Analysis: Reference Electrode Effects\n",
    "\n",
    "**SYNCCIN 2025 Summer School - EEG Reference Comparison**\n",
    "\n",
    "[![Open In Colab](https://colab.research.google.com/assets/colab-badge.svg)](https://colab.research.google.com/github/jzygierewicz/SYNCCIN_2025_summer_school/blob/main/DTF_EEG_reference.ipynb)\n",
    "\n",
    "---\n",
    "\n",
    "**Learning Objectives**\n",
    "\n",
    "This notebook demonstrates how different EEG reference schemes affect DTF connectivity analysis:\n",
    "\n",
    "1. **Compare reference methods**: Linked ears vs. Common Average Reference (CAR)\n",
    "2. **Understand reference artifacts**: How reference choice impacts connectivity patterns\n",
    "3. **Apply to real EEG data recorded in 10-20 system**: Use actual alpha rhythm recordings\n",
    "\n",
    "---"
   ]
  },
  {
   "cell_type": "markdown",
   "id": "39567de1",
   "metadata": {},
   "source": [
    "## Setup: Install Dependencies & Download Data\n",
    "\n",
    "Install required packages and download EEG data and analysis modules."
   ]
  },
  {
   "cell_type": "code",
   "execution_count": null,
   "id": "6cc24dec",
   "metadata": {},
   "outputs": [],
   "source": [
    "# Install required packages\n",
    "!pip install joblib matplotlib numpy networkx scipy -q\n",
    "\n",
    "print(\"All packages installed successfully!\")"
   ]
  },
  {
   "cell_type": "markdown",
   "id": "d4c286b9",
   "metadata": {},
   "source": [
    "## Download Required Files\n",
    "\n",
    "Download EEG data and Python analysis modules from the GitHub repository."
   ]
  },
  {
   "cell_type": "code",
   "execution_count": null,
   "id": "4c8af7ce",
   "metadata": {},
   "outputs": [],
   "source": [
    "import urllib.request\n",
    "import os\n",
    "\n",
    "# Base URL for the GitHub repository\n",
    "base_url = \"https://raw.githubusercontent.com/jzygierewicz/SYNCCIN_2025_summer_school/main/\"\n",
    "\n",
    "# Files to download\n",
    "files_to_download = [\n",
    "    \"EEG_alpha.joblib\",  # Real EEG data with alpha rhythm\n",
    "    \"mtmvar.py\", \n",
    "    \"utils.py\"\n",
    "]\n",
    "\n",
    "print(\"Downloading files from GitHub repository...\")\n",
    "\n",
    "for file in files_to_download:\n",
    "    if not os.path.exists(file):\n",
    "        try:\n",
    "            urllib.request.urlretrieve(base_url + file, file)\n",
    "            print(f\"Downloaded: {file}\")\n",
    "        except Exception as e:\n",
    "            print(f\"Error downloading {file}: {e}\")\n",
    "    else:\n",
    "        print(f\"Already exists: {file}\")\n",
    "\n",
    "print(\"\\nAll files ready for analysis!\")"
   ]
  },
  {
   "cell_type": "markdown",
   "id": "f9eabd84",
   "metadata": {},
   "source": [
    "## Import Libraries and Load Data\n",
    "\n",
    "Import analysis libraries and load the EEG alpha rhythm dataset."
   ]
  },
  {
   "cell_type": "code",
   "execution_count": null,
   "id": "56991484",
   "metadata": {},
   "outputs": [],
   "source": [
    "import matplotlib.pyplot as plt\n",
    "import numpy as np\n",
    "import scipy.io\n",
    "import joblib\n",
    "import networkx as nx\n",
    "\n",
    "# Local imports\n",
    "from mtmvar import mvar_plot_dense, DTF_multivariate, multivariate_spectra\n",
    "from utils import describe_dict\n",
    "\n",
    "# Load EEG data\n",
    "data = joblib.load('EEG_alpha.joblib')\n",
    "print('EEG Data Contents:')\n",
    "describe_dict(data)\n",
    "\n",
    "N_chan = data['EEG'].shape[0]\n",
    "Fs = data['Fs'].item()\n",
    "print(f'\\nDataset Parameters:')\n",
    "print(f'Sampling frequency: {Fs} Hz')\n",
    "print(f'Number of channels: {N_chan}')\n",
    "print(f'Channel names: {data[\"ChanNames\"]}')"
   ]
  },
  {
   "cell_type": "markdown",
   "id": "714a0665",
   "metadata": {},
   "source": [
    "# DTF Analysis with Linked Ears Reference\n",
    "\n",
    "## Configure Analysis Parameters\n",
    "\n",
    "Set up frequency range and model parameters for DTF analysis."
   ]
  },
  {
   "cell_type": "code",
   "execution_count": null,
   "id": "51e33f7e",
   "metadata": {},
   "outputs": [],
   "source": [
    "# Analysis parameters\n",
    "f = np.arange(1, 30, 0.1)  # Frequency range 1-30 Hz\n",
    "N_f = f.shape[0]\n",
    "max_p = 25  # Maximum model order\n",
    "p_opt = None  # Let algorithm select optimal order\n",
    "crit_type = 'AIC'  # Information criterion\n",
    "\n",
    "print(f\"Analysis Parameters:\")\n",
    "print(f\"Frequency range: {f[0]:.1f}-{f[-1]:.1f} Hz ({N_f} points)\")\n",
    "print(f\"Maximum model order: {max_p}\")\n",
    "print(f\"Criterion: {crit_type}\")"
   ]
  },
  {
   "cell_type": "markdown",
   "id": "7231665f",
   "metadata": {},
   "source": [
    "## Multivariate DTF - Linked Ears Reference\n",
    "\n",
    "Compute DTF using the original linked ears reference."
   ]
  },
  {
   "cell_type": "code",
   "execution_count": null,
   "id": "0dae3e43",
   "metadata": {},
   "outputs": [],
   "source": [
    "print(\"Computing DTF with linked ears reference...\")\n",
    "\n",
    "# Compute spectra and DTF\n",
    "S_multivariate = multivariate_spectra(data['EEG'], f, Fs, max_p, p_opt=p_opt, crit_type=crit_type)\n",
    "DTF = DTF_multivariate(data['EEG'], f, Fs, max_p, p_opt=p_opt, crit_type=crit_type)\n",
    "\n",
    "# Plot results\n",
    "mvar_plot_dense(S_multivariate, DTF, f, 'From ', 'To ', data['ChanNames'], \n",
    "                'Multivariate DTF - Linked Ears Reference', 'sqrt')\n",
    "plt.show()\n",
    "\n",
    "print(\"Linked ears reference DTF computed and displayed.\")"
   ]
  },
  {
   "cell_type": "markdown",
   "id": "77587778",
   "metadata": {},
   "source": [
    "# DTF Analysis with Common Average Reference (CAR)\n",
    "\n",
    "## Apply CAR and Handle Rank Deficiency\n",
    "\n",
    "Convert to Common Average Reference and handle the resulting rank deficiency."
   ]
  },
  {
   "cell_type": "code",
   "execution_count": null,
   "id": "552c0f6b",
   "metadata": {},
   "outputs": [],
   "source": [
    "print(\"Applying Common Average Reference (CAR)...\")\n",
    "\n",
    "# Apply CAR transformation\n",
    "data_car = data['EEG'] - np.mean(data['EEG'], axis=0, keepdims=True)\n",
    "\n",
    "# Handle rank deficiency by replacing one channel with noise\n",
    "# T3 is chosen as it showed minimal connectivity in linked ears analysis\n",
    "t3_index = data['ChanNames'].index('T3')\n",
    "data_car[t3_index, :] = np.random.randn(*data_car[t3_index, :].shape)\n",
    "\n",
    "print(f\"CAR applied. Channel {data['ChanNames'][t3_index]} replaced with noise to handle rank deficiency.\")"
   ]
  },
  {
   "cell_type": "markdown",
   "id": "8c51308b",
   "metadata": {},
   "source": [
    "## Multivariate DTF - CAR Reference\n",
    "\n",
    "Compute DTF using the Common Average Reference."
   ]
  },
  {
   "cell_type": "code",
   "execution_count": null,
   "id": "5290ac71",
   "metadata": {},
   "outputs": [],
   "source": [
    "print(\"Computing DTF with CAR reference...\")\n",
    "\n",
    "# Compute spectra and DTF for CAR data\n",
    "S_multivariate_CAR = multivariate_spectra(data_car, f, Fs, max_p, p_opt=p_opt, crit_type=crit_type)\n",
    "DTF_CAR = DTF_multivariate(data_car, f, Fs, max_p, p_opt=p_opt, crit_type=crit_type)\n",
    "\n",
    "# Plot results\n",
    "mvar_plot_dense(S_multivariate_CAR, DTF_CAR, f, 'From ', 'To ', data['ChanNames'], \n",
    "                'Multivariate DTF - CAR Reference', 'sqrt')\n",
    "plt.show()\n",
    "\n",
    "print(\"CAR reference DTF computed and displayed.\")"
   ]
  },
  {
   "cell_type": "markdown",
   "id": "4bb46c4d",
   "metadata": {},
   "source": [
    "# Reference Comparison and Conclusions\n",
    "\n",
    "## Key Observations\n",
    "\n",
    "**Linked Ears Reference:**\n",
    "- Traditional choice\n",
    "- Generally provides cleaner connectivity patterns\n",
    "\n",
    "**Common Average Reference (CAR):**\n",
    "- Requires handling rank deficiency (one channel must be removed/replaced)\n",
    "- Introduces a mixture of phases from all channels to all other channels\n",
    "- May introduce artificial connectivity due to reference contamination\n",
    "- Can create interpretation challenges\n",
    "\n",
    "\n",
    "## Clinical Implications\n",
    "- **Reference choice matters**: Different references can lead to different connectivity conclusions\n",
    "\n",
    "## Methodological Notes\n",
    "- Consider reference choice when comparing studies or interpreting results\n",
    "\n",
    "---\n",
    "\n",
    "**Educational Materials**: [SYNCCIN 2025 Repository](https://github.com/jzygierewicz/SYNCCIN_2025_summer_school)\n",
    "\n",
    "**Contact**: \n",
    "- **Author**: Jarosław Żygierewicz\n",
    "- **Institution**: University of Warsaw  \n",
    "- **Event**: SYNCCIN 2025 Summer School"
   ]
  },
  {
   "cell_type": "markdown",
   "id": "91c5d9b6",
   "metadata": {},
   "source": []
  }
 ],
 "metadata": {
  "language_info": {
   "name": "python"
  }
 },
 "nbformat": 4,
 "nbformat_minor": 5
}
