{
 "cells": [
  {
   "cell_type": "markdown",
   "id": "a63dd4c6",
   "metadata": {},
   "source": [
    "[![Open In Colab](https://colab.research.google.com/assets/colab-badge.svg)](https://colab.research.google.com/github/jzygierewicz/SYNCCIN_2025_summer_school/blob/main/3_channels_MVAR.ipynb)\n",
    "\n",
    "# SYNCCIN 2025 Summer School - MVAR Connectivity Analysis"
   ]
  },
  {
   "cell_type": "markdown",
   "id": "c001f0d1",
   "metadata": {},
   "source": [
    "# Comparison of Multivariate vs. Bivariate Approach to Connectivity Estimation\n",
    "\n",
    "This notebook demonstrates advanced connectivity analysis using Multivariate Autoregressive (MVAR) modeling and Directed Transfer Function (DTF) for EEG data analysis. The comparison includes:\n",
    "\n",
    "- **Bivariate vs. Multivariate MVAR modeling**\n",
    "- **Spectral analysis and cross-spectral estimation**  \n",
    "- **Directed Transfer Function (DTF) computation**\n",
    "- **Interactive visualizations of connectivity patterns**\n",
    "- **Network graph representations**\n",
    "\n",
    "## Key Learning Objectives:\n",
    "1. Understand the differences between bivariate and multivariate approaches\n",
    "2. Learn MVAR model order selection using information criteria\n",
    "3. Compute and interpret DTF for connectivity analysis\n",
    "4. Visualize connectivity patterns using interactive plots and network graphs"
   ]
  },
  {
   "cell_type": "markdown",
   "id": "d6073073",
   "metadata": {},
   "source": [
    "## Setup and Installation\n",
    "\n",
    "First, let's install the required packages for Google Colab:"
   ]
  },
  {
   "cell_type": "code",
   "execution_count": null,
   "id": "0275665b",
   "metadata": {},
   "outputs": [],
   "source": [
    "# Install required packages for Google Colab\n",
    "!pip install plotly networkx scipy joblib ipywidgets\n",
    "\n",
    "# Enable plotly for Colab\n",
    "import plotly.io as pio\n",
    "pio.renderers.default = \"colab\""
   ]
  },
  {
   "cell_type": "markdown",
   "id": "7910866b",
   "metadata": {},
   "source": [
    "## Import Required Libraries"
   ]
  },
  {
   "cell_type": "code",
   "execution_count": null,
   "id": "81170a98",
   "metadata": {},
   "outputs": [],
   "source": [
    "import matplotlib.pyplot as plt\n",
    "import numpy as np\n",
    "import joblib\n",
    "import networkx as nx\n",
    "import plotly.graph_objects as go\n",
    "import plotly.express as px\n",
    "from plotly.subplots import make_subplots\n",
    "import plotly.figure_factory as ff\n",
    "\n",
    "# Note: Custom modules (mtmvar and utils) will be imported after downloading\n",
    "# Run the download section first to get these modules from the GitHub repository"
   ]
  },
  {
   "cell_type": "markdown",
   "id": "ff8ed675",
   "metadata": {},
   "source": [
    "## Download Required Files\n",
    "\n",
    "Let's download all the required files directly from the GitHub repository:\n",
    "- Data files (`.joblib` format)\n",
    "- Python modules (`mtmvar.py` and `utils.py`)"
   ]
  },
  {
   "cell_type": "code",
   "execution_count": null,
   "id": "e61c7956",
   "metadata": {},
   "outputs": [],
   "source": [
    "import urllib.request\n",
    "import os\n",
    "\n",
    "# GitHub repository information\n",
    "github_user = \"jzygierewicz\"\n",
    "repo_name = \"SYNCCIN_2025_summer_school\"\n",
    "branch = \"main\"\n",
    "\n",
    "# Files to download\n",
    "files_to_download = [\n",
    "    \"simulated_3_channels.joblib\",\n",
    "    \"mtmvar.py\",\n",
    "    \"utils.py\"\n",
    "]\n",
    "\n",
    "print(\"Downloading required files from GitHub repository...\")\n",
    "\n",
    "for filename in files_to_download:\n",
    "    url = f\"https://raw.githubusercontent.com/{github_user}/{repo_name}/{branch}/{filename}\"\n",
    "    \n",
    "    try:\n",
    "        print(f\"Downloading {filename}...\")\n",
    "        urllib.request.urlretrieve(url, filename)\n",
    "        \n",
    "        # Check if file was downloaded successfully\n",
    "        if os.path.exists(filename):\n",
    "            file_size = os.path.getsize(filename)\n",
    "            print(f\"✓ {filename} downloaded successfully ({file_size:,} bytes)\")\n",
    "        else:\n",
    "            print(f\"✗ Failed to download {filename}\")\n",
    "            \n",
    "    except Exception as e:\n",
    "        print(f\"✗ Error downloading {filename}: {str(e)}\")\n",
    "        print(f\"  You may need to upload this file manually to your Colab session\")\n",
    "\n",
    "print(\"\\nDownload process completed!\")\n",
    "print(\"\\nAvailable files in current directory:\")\n",
    "for f in os.listdir(\".\"):\n",
    "    if f.endswith((\".joblib\", \".pkl\", \".py\")):\n",
    "        size = os.path.getsize(f)\n",
    "        print(f\"  - {f} ({size:,} bytes)\")\n",
    "\n",
    "# Verify Python modules can be imported\n",
    "print(\"\\nTesting Python module imports...\")\n",
    "try:\n",
    "    from mtmvar import mvar_criterion, AR_coeff, mvar_H, mvar_plot\n",
    "    print(\"✓ mtmvar module imported successfully\")\n",
    "except ImportError as e:\n",
    "    print(f\"✗ Error importing mtmvar: {e}\")\n",
    "\n",
    "try:\n",
    "    from utils import describe_dict\n",
    "    print(\"✓ utils module imported successfully\")\n",
    "except ImportError as e:\n",
    "    print(f\"✗ Error importing utils: {e}\")\n",
    "\n",
    "print(\"\\nSetup completed! You can now run the analysis.\")"
   ]
  },
  {
   "cell_type": "markdown",
   "id": "a628bc9a",
   "metadata": {},
   "source": [
    "## Import Custom Modules\n",
    "\n",
    "Now that we've downloaded the custom modules, let's import the required functions:"
   ]
  },
  {
   "cell_type": "code",
   "execution_count": null,
   "id": "2af27727",
   "metadata": {},
   "outputs": [],
   "source": [
    "# Import custom modules that were downloaded from the repository\n",
    "try:\n",
    "    from mtmvar import mvar_criterion, AR_coeff, mvar_H, mvar_plot, graph_plot\n",
    "    print(\"✓ Successfully imported mtmvar functions.\")\n",
    "except ImportError as e:\n",
    "    print(f\"✗ Error importing mtmvar module: {e}\")\n",
    "    print(\"Make sure you ran the download section first!\")\n",
    "\n",
    "try:\n",
    "    from utils import describe_dict\n",
    "    print(\"✓ Successfully imported utils functions.\")\n",
    "except ImportError as e:\n",
    "    print(f\"✗ Error importing utils module: {e}\")\n",
    "    print(\"Make sure you ran the download section first!\")\n",
    "\n",
    "print(\"\\nAll modules ready for MVAR connectivity analysis!\")"
   ]
  },
  {
   "cell_type": "markdown",
   "id": "1d04d393",
   "metadata": {},
   "source": [
    "## Load and Explore Data\n",
    "\n",
    "Let's load the simulated 3-channel EEG data and explore its characteristics:"
   ]
  },
  {
   "cell_type": "code",
   "execution_count": null,
   "id": "df560277",
   "metadata": {},
   "outputs": [],
   "source": [
    "# Load simulation data from simulated_3_channels.joblib\n",
    "# This file was downloaded automatically from the GitHub repository\n",
    "data = joblib.load('simulated_3_channels.joblib')\n",
    "describe_dict(data)\n",
    "\n",
    "sim1 = data['EEG']\n",
    "Fs = data['Fs']\n",
    "N_chan, N_samp = sim1.shape\n",
    "sim_chan_names = ['0', '1', '2']\n",
    "print(f\"\\n=== DATA CHARACTERISTICS ===\")\n",
    "print(f\"Number of channels: {N_chan}\")\n",
    "print(f\"Number of samples: {N_samp}\")\n",
    "print(f\"Sampling frequency: {Fs} Hz\")\n",
    "print(f\"Data duration: {N_samp/Fs:.2f} seconds\")\n",
    "print(f\"Data shape: {sim1.shape}\")"
   ]
  },
  {
   "cell_type": "markdown",
   "id": "5d6e817a",
   "metadata": {},
   "source": [
    "## Visualize the EEG Signals\n",
    "\n",
    "Let's plot the 3-channel EEG signals using interactive Plotly visualizations:"
   ]
  },
  {
   "cell_type": "code",
   "execution_count": null,
   "id": "7e0bc944",
   "metadata": {},
   "outputs": [],
   "source": [
    "# Plot the signals using Plotly for interactive zooming\n",
    "time_samples = np.arange(N_samp)\n",
    "time_seconds = time_samples / Fs\n",
    "\n",
    "fig = make_subplots(\n",
    "    rows=N_chan, cols=1,\n",
    "    shared_xaxes=True,\n",
    "    subplot_titles=[f'Channel {i}' for i in range(N_chan)],\n",
    "    vertical_spacing=0.05\n",
    ")\n",
    "\n",
    "colors = px.colors.qualitative.Set1[:N_chan]\n",
    "\n",
    "for i in range(N_chan):\n",
    "    fig.add_trace(\n",
    "        go.Scatter(\n",
    "            x=time_seconds,\n",
    "            y=sim1[i, :],\n",
    "            mode='lines',\n",
    "            name=f'Channel {i}',\n",
    "            line=dict(color=colors[i], width=1),\n",
    "            showlegend=False\n",
    "        ),\n",
    "        row=i+1, col=1\n",
    "    )\n",
    "\n",
    "fig.update_layout(\n",
    "    height=150*N_chan + 100,\n",
    "    title_text=\"3-Channel EEG Signals\",\n",
    "    font=dict(size=12)\n",
    ")\n",
    "\n",
    "fig.update_xaxes(title_text=\"Time [seconds]\", row=N_chan, col=1)\n",
    "fig.update_yaxes(title_text=\"Amplitude [µV]\")\n",
    "\n",
    "fig.show()"
   ]
  },
  {
   "cell_type": "markdown",
   "id": "8ce697b0",
   "metadata": {},
   "source": [
    "# MVAR Model Theory\n",
    "\n",
    "## Multivariate Autoregressive (MVAR) Model\n",
    "\n",
    "The MVAR model describes the relationship between channels in a multivariate time series:\n",
    "\n",
    "$$\\mathbf{x}(t) = \\sum_{k=1}^{p} \\mathbf{A}_k \\mathbf{x}(t-k) + \\mathbf{e}(t)$$\n",
    "\n",
    "Where:\n",
    "- $\\mathbf{x}(t)$ is the multichannel signal vector at time $t$\n",
    "- $\\mathbf{A}_k$ are the autoregressive coefficient matrices \n",
    "- $p$ is the model order\n",
    "- $\\mathbf{e}(t)$ is the noise vector\n",
    "\n",
    "## Model Order Selection\n",
    "\n",
    "We use information criterion AIC to determine the optimal model order $p$.\n",
    "\n",
    "## Directed Transfer Function (DTF)\n",
    "\n",
    "DTF quantifies the directional flow of information between channels:\n",
    "\n",
    "$$DTF_{ij}(f) = |H_{ij}(f)|^2$$\n",
    "\n",
    "Where $H_{ij}(f)$ is the transfer function from channel $j$ to channel $i$."
   ]
  },
  {
   "cell_type": "markdown",
   "id": "99952f5b",
   "metadata": {},
   "source": [
    "# Model Estimation\n",
    "\n",
    "We will model the signal using a multivariate autoregressive (MVAR) model and compare bivariate vs. multivariate approaches.\n",
    "\n",
    "Let's set up the analysis parameters:"
   ]
  },
  {
   "cell_type": "code",
   "execution_count": null,
   "id": "8e546b0a",
   "metadata": {},
   "outputs": [],
   "source": [
    "# Analysis parameters\n",
    "max_p = 15          # Maximum model order to test\n",
    "crit_type = 'AIC'   # Information criterion (AIC or BIC)\n",
    "f = np.arange(0, 64, 0.1)  # Frequency range for analysis\n",
    "N_f = f.shape[0]    # Number of frequency points"
   ]
  },
  {
   "cell_type": "markdown",
   "id": "d2dead4b",
   "metadata": {},
   "source": [
    "# SPECTRAL ANALYSIS\n",
    "\n",
    "First, let us examine the estimation of spectra and cross-spectra using the bivariate and multivariate approaches.\n",
    "\n",
    "## Bivariate Approach\n",
    "\n",
    "In the bivariate approach, we estimate the model order separately for each pair of channels. This means we analyze each channel pair independently."
   ]
  },
  {
   "cell_type": "code",
   "execution_count": null,
   "id": "738f1c57",
   "metadata": {},
   "outputs": [],
   "source": [
    "print(\"=== BIVARIATE SPECTRAL ANALYSIS ===\")\n",
    "print(\"Analyzing each channel pair separately...\")\n",
    "\n",
    "# Initialize the bivariate spectrum\n",
    "S_bivariate = np.zeros((N_chan, N_chan, N_f), dtype=np.complex128)\n",
    "\n",
    "# Process each channel pair\n",
    "for ch1 in range(N_chan):\n",
    "    for ch2 in range(ch1+1, N_chan):\n",
    "        print(f\"\\nProcessing channel pair: {ch1} ↔ {ch2}\")\n",
    "        \n",
    "        # Create bivariate signal\n",
    "        x = np.vstack((sim1[ch1, :], sim1[ch2, :]))\n",
    "        \n",
    "        # Estimate optimal model order for this pair\n",
    "        crit, p_range, p_opt = mvar_criterion(x, max_p, crit_type, False)\n",
    "        print(f\"  Optimal model order: p = {p_opt}\")\n",
    "        \n",
    "        # Estimate AR coefficients and compute transfer function\n",
    "        Ar, V = AR_coeff(x, p_opt)\n",
    "        H, _ = mvar_H(Ar, f, Fs)\n",
    "        \n",
    "        # Compute spectrum for this channel pair\n",
    "        S_2chan = np.zeros((2, 2, N_f), dtype=np.complex128)\n",
    "        for fi in range(N_f):\n",
    "            S_2chan[:, :, fi] = H[:, :, fi].dot(V.dot(H[:, :, fi].T))\n",
    "        \n",
    "        # Store results in the global bivariate spectrum matrix\n",
    "        S_bivariate[ch1, ch1, :] = S_2chan[0, 0, :]\n",
    "        S_bivariate[ch2, ch2, :] = S_2chan[1, 1, :]\n",
    "        S_bivariate[ch1, ch2, :] = S_2chan[0, 1, :]\n",
    "        S_bivariate[ch2, ch1, :] = S_2chan[1, 0, :]\n",
    "\n",
    "print(\"\\n✓ Bivariate spectral analysis completed!\")"
   ]
  },
  {
   "cell_type": "markdown",
   "id": "2044493b",
   "metadata": {},
   "source": [
    "## Multivariate Approach\n",
    "\n",
    "In the multivariate approach, we estimate the model order for all channels simultaneously. This provides a more comprehensive view of the system dynamics."
   ]
  },
  {
   "cell_type": "code",
   "execution_count": null,
   "id": "9f489a8f",
   "metadata": {},
   "outputs": [],
   "source": [
    "print(\"=== MULTIVARIATE SPECTRAL ANALYSIS ===\")\n",
    "print(\"Analyzing all channels simultaneously...\")\n",
    "\n",
    "# Use all channels together\n",
    "x = sim1\n",
    "\n",
    "# Estimate optimal model order for all channels\n",
    "crit, p_range, p_opt = mvar_criterion(x, max_p, crit_type, True)\n",
    "print(f\"Optimal model order for all channels: p = {p_opt}\")\n",
    "\n",
    "# Estimate AR coefficients and compute transfer function\n",
    "Ar, V = AR_coeff(x, p_opt)\n",
    "H, _ = mvar_H(Ar, f, Fs)\n",
    "\n",
    "# Compute multivariate spectrum\n",
    "S_multivariate = np.zeros((N_chan, N_chan, N_f), dtype=np.complex128)\n",
    "for fi in range(N_f):\n",
    "    S_multivariate[:, :, fi] = H[:, :, fi].dot(V.dot(H[:, :, fi].T))\n",
    "\n",
    "print(\"✓ Multivariate spectral analysis completed!\")\n",
    "\n",
    "# Display model order comparison\n",
    "print(f\"\\n=== MODEL ORDER COMPARISON ===\")\n",
    "print(\"Note: The multivariate approach typically results in more parsimonious models\")\n",
    "print(\"while the bivariate approach may overfit with higher model orders.\")"
   ]
  },
  {
   "cell_type": "markdown",
   "id": "c19ef458",
   "metadata": {},
   "source": [
    "## Spectral Visualization\n",
    "\n",
    "Let's create  plots to compare the bivariate and multivariate spectral estimates:"
   ]
  },
  {
   "cell_type": "code",
   "execution_count": null,
   "id": "4a1f8f2b",
   "metadata": {},
   "outputs": [],
   "source": [
    "mvar_plot(S_bivariate, S_bivariate,   f, 'From ', 'To ',  sim_chan_names, 'Bivariate DTF' ,'sqrt')\n",
    "mvar_plot(S_multivariate, S_multivariate,   f, 'From ', 'To ', sim_chan_names, 'Multivariate DTF' ,'sqrt')\n",
    "plt.show()"
   ]
  },
  {
   "cell_type": "markdown",
   "id": "718eed91",
   "metadata": {},
   "source": [
    "## Spectral Analysis Results\n",
    "\n",
    "**Key Observations:**\n",
    "\n",
    "1. **Diagonal Elements (Auto-spectra)**: Show the power spectral density of each individual channel\n",
    "2. **Off-diagonal Elements (Cross-spectra)**: Reveal the spectral similarities between channel pairs\n",
    "3. **Alpha Peak**: Look for the characteristic alpha rhythm peak around 8-12 Hz\n",
    "4. **Approach Differences**: Compare the spectral profiles between bivariate and multivariate methods\n",
    "\n",
    "**Expected Differences:**\n",
    "- Bivariate approach may show **narrower spectral peaks** due to higher model orders\n",
    "- Multivariate approach provides a **more integrated view** of the system dynamics"
   ]
  },
  {
   "cell_type": "markdown",
   "id": "5c659d70",
   "metadata": {},
   "source": [
    "# DIRECTED TRANSFER FUNCTION (DTF) ANALYSIS\n",
    "\n",
    "Now let's compute the Directed Transfer Function to analyze directional connectivity patterns.\n",
    "\n",
    "## Bivariate DTF Computation"
   ]
  },
  {
   "cell_type": "code",
   "execution_count": null,
   "id": "b672c3d1",
   "metadata": {},
   "outputs": [],
   "source": [
    "print(\"=== BIVARIATE DTF ANALYSIS ===\")\n",
    "print(\"Computing DTF for each channel pair separately...\")\n",
    "\n",
    "# Initialize the bivariate DTF\n",
    "DTF_bivariate = np.zeros((N_chan, N_chan, N_f), dtype=np.complex128)\n",
    "\n",
    "# Process each channel pair for DTF\n",
    "for ch1 in range(N_chan):\n",
    "    for ch2 in range(ch1+1, N_chan):\n",
    "        print(f\"Computing DTF for channel pair: {ch1} ↔ {ch2}\")\n",
    "        \n",
    "        # Create bivariate signal\n",
    "        x = np.vstack((sim1[ch1, :], sim1[ch2, :]))\n",
    "        \n",
    "        # Estimate model parameters\n",
    "        _, _, p_opt = mvar_criterion(x, max_p, crit_type, False)\n",
    "        Ar, _ = AR_coeff(x, p_opt)\n",
    "        H, _ = mvar_H(Ar, f, Fs)\n",
    "        \n",
    "        # Compute DTF (squared magnitude of transfer function)\n",
    "        DTF_2chan = np.abs(H)**2\n",
    "        \n",
    "        # Store in the global DTF matrix\n",
    "        DTF_bivariate[ch1, ch2, :] = DTF_2chan[0, 1, :]  # ch1 → ch2\n",
    "        DTF_bivariate[ch2, ch1, :] = DTF_2chan[1, 0, :]  # ch2 → ch1\n",
    "\n",
    "print(\"✓ Bivariate DTF computation completed!\")"
   ]
  },
  {
   "cell_type": "markdown",
   "id": "96bf4e3f",
   "metadata": {},
   "source": [
    "## Multivariate DTF Computation"
   ]
  },
  {
   "cell_type": "code",
   "execution_count": null,
   "id": "3a8ab805",
   "metadata": {},
   "outputs": [],
   "source": [
    "print(\"=== MULTIVARIATE DTF ANALYSIS ===\")\n",
    "print(\"Computing DTF for all channels simultaneously...\")\n",
    "\n",
    "# Estimate model parameters for all channels\n",
    "_, _, p_opt = mvar_criterion(sim1, max_p, crit_type, False)\n",
    "print(f\"Using model order: p = {p_opt}\")\n",
    "\n",
    "Ar, _ = AR_coeff(sim1, p_opt)\n",
    "H, _ = mvar_H(Ar, f, Fs)\n",
    "\n",
    "# Compute multivariate DTF\n",
    "DTF_multivariate = np.abs(H)**2\n",
    "\n",
    "print(\"✓ Multivariate DTF computation completed!\")\n",
    "\n",
    "print(f\"\\n=== DTF ANALYSIS SUMMARY ===\")\n",
    "print(f\"DTF matrices computed with {N_f} frequency points\")\n",
    "print(f\"Frequency range: {f[0]:.1f} - {f[-1]:.1f} Hz\")\n",
    "print(\"DTF values represent directional information flow between channels\")"
   ]
  },
  {
   "cell_type": "markdown",
   "id": "2892c01c",
   "metadata": {},
   "source": [
    "## DTF Visualization\n",
    "\n",
    "Let's create visualizations of the DTF results:"
   ]
  },
  {
   "cell_type": "code",
   "execution_count": null,
   "id": "593d6d22",
   "metadata": {},
   "outputs": [],
   "source": [
    "mvar_plot(S_bivariate, DTF_bivariate,   f, 'From ', 'To ',  sim_chan_names, 'Bivariate DTF' ,'sqrt')\n",
    "mvar_plot(S_multivariate, DTF_multivariate,   f, 'From ', 'To ', sim_chan_names, 'Multivariate DTF' ,'sqrt')\n",
    "plt.show()"
   ]
  },
  {
   "cell_type": "markdown",
   "id": "e7585f84",
   "metadata": {},
   "source": [
    "## Network Visualization\n",
    "\n",
    "Create the network plots:"
   ]
  },
  {
   "cell_type": "code",
   "execution_count": null,
   "id": "5f5aff69",
   "metadata": {},
   "outputs": [],
   "source": [
    "fig, axs = plt.subplots(1, 2, figsize=(12, 6))\n",
    "f_range = (8, 12)  # frequency range for alpha band\n",
    "G_bivariate = graph_plot(DTF_bivariate, axs[0], f, f_range, sim_chan_names, 'Bivariate DTF')\n",
    "G_multivariate = graph_plot(DTF_multivariate, axs[1], f, f_range, sim_chan_names, 'Multivariate DTF')\n",
    "plt.tight_layout()\n",
    "plt.show()"
   ]
  },
  {
   "cell_type": "markdown",
   "id": "4e76b5ed",
   "metadata": {},
   "source": [
    "# Key Findings and Interpretation\n",
    "\n",
    "## Spectral Analysis Comparison\n",
    "- **Bivariate approach**: Shows higher model orders and potentially narrower spectral peaks\n",
    "- **Multivariate approach**: More parsimonious models with broader spectral features\n",
    "- **Cross-spectral patterns**: Differences in coupling estimates between approaches\n",
    "\n",
    "## DTF Connectivity Analysis\n",
    "- **Bivariate DTF**: May show spurious connections due to indirect pathways\n",
    "- **Multivariate DTF**: Better at revealing true direct connections\n",
    "- **Directional patterns**: Compare the flow patterns between the two approaches\n",
    "\n",
    "## Network Topology\n",
    "- **Edge thickness**: Proportional to connection strength\n",
    "- **Network density**: Compare the number and strength of connections"
   ]
  },
  {
   "cell_type": "markdown",
   "id": "9ac7c9c6",
   "metadata": {},
   "source": [
    "## Detailed Conclusions\n",
    "\n",
    "### When estimating spectra and cross-spectra:\n",
    "1. **Similar overall patterns** between bivariate and multivariate approaches\n",
    "2. **Higher model orders** in bivariate approach lead to narrower spectral peaks\n",
    "3. **Computational complexity** is higher for bivariate analysis, especially with many channels\n",
    "\n",
    "### For DTF connectivity analysis:\n",
    "1. **Spurious connections** are more common in bivariate DTF estimates\n",
    "2. **Multivariate DTF** provides more accurate representation of direct connections\n",
    "3. **Indirect effects** are better controlled in the multivariate approach\n",
    "\n",
    "### Practical recommendations:\n",
    "- **Use multivariate approach** when possible for more accurate connectivity estimates\n",
    "- **Bivariate approach** may be necessary for very high-dimensional data due to computational constraints\n",
    "- **Model order selection** is important for both approaches\n",
    "- **Frequency-specific analysis** reveals rhtyhms engaged in the connectivity"
   ]
  },
  {
   "cell_type": "markdown",
   "id": "0a1f8b24",
   "metadata": {},
   "source": []
  },
  {
   "cell_type": "markdown",
   "id": "5fd63862",
   "metadata": {},
   "source": [
    "## Further Reading and Advanced Topics\n",
    "\n",
    "### Extended Analysis Methods:\n",
    "- **Partial Directed Coherence (PDC)**: Alternative to DTF with different normalization\n",
    "- **Granger Causality**: Statistical approach to directional connectivity\n",
    "- **Time-varying connectivity**: Analysis of dynamic changes in connectivity\n",
    "- **Statistical significance testing**: Surrogate data methods for connectivity validation\n",
    "\n",
    "### Technical Considerations:\n",
    "- **Stationarity requirements**: MVAR models assume stationary signals\n",
    "- **Model order selection**: Different criteria (AIC, SC, HQ) may give different results\n",
    "- **Frequency resolution**: Trade-off between frequency and time resolution\n",
    "- **Multiple comparison correction**: Important when analyzing many connections\n",
    "\n",
    "\n",
    "---\n",
    "\n",
    "**This notebook demonstrates the fundamental differences between bivariate and multivariate approaches to connectivity estimation, providing a foundation for more advanced connectivity analysis methods.**"
   ]
  }
 ],
 "metadata": {
  "language_info": {
   "name": "python"
  }
 },
 "nbformat": 4,
 "nbformat_minor": 5
}
