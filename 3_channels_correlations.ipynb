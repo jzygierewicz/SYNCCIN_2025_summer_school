{
  "cells": [
    {
      "cell_type": "markdown",
      "id": "3d91072a",
      "metadata": {
        "id": "3d91072a"
      },
      "source": [
        "# Comparison of Multivariate vs. Bivariate Approach to Connectivity Estimation\n",
        "\n",
        "This notebook demonstrates connectivity analysis using cross-correlation and delay estimation between multiple EEG channels. The analysis includes:\n",
        "- Loading simulated 3-channel EEG data\n",
        "- Cross-correlation analysis between channel pairs\n",
        "- Delay estimation and visualization\n",
        "- Network graph representation of channel connectivity"
      ]
    },
    {
      "cell_type": "markdown",
      "id": "1bbf9dfa",
      "metadata": {
        "id": "1bbf9dfa"
      },
      "source": [
        "The simulation follows the scheme:\n",
        "\n",
        "<img src=\"https://raw.githubusercontent.com/jzygierewicz/SYNCCIN_2025_summer_school/main/3chan_sim.png\" alt=\"Simulated 3-channel EEG scheme\" width=\"50%\">\n",
        "\n",
        "where channel 0  contains the orignal EEG alpha activity."
      ]
    },
    {
      "cell_type": "markdown",
      "id": "11cc4192",
      "metadata": {
        "id": "11cc4192"
      },
      "source": [
        "## Setup and Installation\n",
        "\n",
        "First, let's install the required packages for Google Colab:"
      ]
    },
    {
      "cell_type": "code",
      "execution_count": 1,
      "id": "98ed4c3d",
      "metadata": {
        "colab": {
          "base_uri": "https://localhost:8080/"
        },
        "id": "98ed4c3d",
        "outputId": "b8c9a43e-3bd7-4ad5-b8d5-ede0c9d74c40"
      },
      "outputs": [
        {
          "output_type": "stream",
          "name": "stdout",
          "text": [
            "Requirement already satisfied: plotly in /usr/local/lib/python3.11/dist-packages (5.24.1)\n",
            "Requirement already satisfied: networkx in /usr/local/lib/python3.11/dist-packages (3.5)\n",
            "Requirement already satisfied: scipy in /usr/local/lib/python3.11/dist-packages (1.16.0)\n",
            "Requirement already satisfied: joblib in /usr/local/lib/python3.11/dist-packages (1.5.1)\n",
            "Requirement already satisfied: ipywidgets in /usr/local/lib/python3.11/dist-packages (7.7.1)\n",
            "Requirement already satisfied: tenacity>=6.2.0 in /usr/local/lib/python3.11/dist-packages (from plotly) (8.5.0)\n",
            "Requirement already satisfied: packaging in /usr/local/lib/python3.11/dist-packages (from plotly) (25.0)\n",
            "Requirement already satisfied: numpy<2.6,>=1.25.2 in /usr/local/lib/python3.11/dist-packages (from scipy) (2.0.2)\n",
            "Requirement already satisfied: ipykernel>=4.5.1 in /usr/local/lib/python3.11/dist-packages (from ipywidgets) (6.17.1)\n",
            "Requirement already satisfied: ipython-genutils~=0.2.0 in /usr/local/lib/python3.11/dist-packages (from ipywidgets) (0.2.0)\n",
            "Requirement already satisfied: traitlets>=4.3.1 in /usr/local/lib/python3.11/dist-packages (from ipywidgets) (5.7.1)\n",
            "Requirement already satisfied: widgetsnbextension~=3.6.0 in /usr/local/lib/python3.11/dist-packages (from ipywidgets) (3.6.10)\n",
            "Requirement already satisfied: ipython>=4.0.0 in /usr/local/lib/python3.11/dist-packages (from ipywidgets) (7.34.0)\n",
            "Requirement already satisfied: jupyterlab-widgets>=1.0.0 in /usr/local/lib/python3.11/dist-packages (from ipywidgets) (3.0.15)\n",
            "Requirement already satisfied: debugpy>=1.0 in /usr/local/lib/python3.11/dist-packages (from ipykernel>=4.5.1->ipywidgets) (1.8.15)\n",
            "Requirement already satisfied: jupyter-client>=6.1.12 in /usr/local/lib/python3.11/dist-packages (from ipykernel>=4.5.1->ipywidgets) (6.1.12)\n",
            "Requirement already satisfied: matplotlib-inline>=0.1 in /usr/local/lib/python3.11/dist-packages (from ipykernel>=4.5.1->ipywidgets) (0.1.7)\n",
            "Requirement already satisfied: nest-asyncio in /usr/local/lib/python3.11/dist-packages (from ipykernel>=4.5.1->ipywidgets) (1.6.0)\n",
            "Requirement already satisfied: psutil in /usr/local/lib/python3.11/dist-packages (from ipykernel>=4.5.1->ipywidgets) (5.9.5)\n",
            "Requirement already satisfied: pyzmq>=17 in /usr/local/lib/python3.11/dist-packages (from ipykernel>=4.5.1->ipywidgets) (26.2.1)\n",
            "Requirement already satisfied: tornado>=6.1 in /usr/local/lib/python3.11/dist-packages (from ipykernel>=4.5.1->ipywidgets) (6.4.2)\n",
            "Requirement already satisfied: setuptools>=18.5 in /usr/local/lib/python3.11/dist-packages (from ipython>=4.0.0->ipywidgets) (75.2.0)\n",
            "Requirement already satisfied: jedi>=0.16 in /usr/local/lib/python3.11/dist-packages (from ipython>=4.0.0->ipywidgets) (0.19.2)\n",
            "Requirement already satisfied: decorator in /usr/local/lib/python3.11/dist-packages (from ipython>=4.0.0->ipywidgets) (4.4.2)\n",
            "Requirement already satisfied: pickleshare in /usr/local/lib/python3.11/dist-packages (from ipython>=4.0.0->ipywidgets) (0.7.5)\n",
            "Requirement already satisfied: prompt-toolkit!=3.0.0,!=3.0.1,<3.1.0,>=2.0.0 in /usr/local/lib/python3.11/dist-packages (from ipython>=4.0.0->ipywidgets) (3.0.51)\n",
            "Requirement already satisfied: pygments in /usr/local/lib/python3.11/dist-packages (from ipython>=4.0.0->ipywidgets) (2.19.2)\n",
            "Requirement already satisfied: backcall in /usr/local/lib/python3.11/dist-packages (from ipython>=4.0.0->ipywidgets) (0.2.0)\n",
            "Requirement already satisfied: pexpect>4.3 in /usr/local/lib/python3.11/dist-packages (from ipython>=4.0.0->ipywidgets) (4.9.0)\n",
            "Requirement already satisfied: notebook>=4.4.1 in /usr/local/lib/python3.11/dist-packages (from widgetsnbextension~=3.6.0->ipywidgets) (6.5.7)\n",
            "Requirement already satisfied: parso<0.9.0,>=0.8.4 in /usr/local/lib/python3.11/dist-packages (from jedi>=0.16->ipython>=4.0.0->ipywidgets) (0.8.4)\n",
            "Requirement already satisfied: jupyter-core>=4.6.0 in /usr/local/lib/python3.11/dist-packages (from jupyter-client>=6.1.12->ipykernel>=4.5.1->ipywidgets) (5.8.1)\n",
            "Requirement already satisfied: python-dateutil>=2.1 in /usr/local/lib/python3.11/dist-packages (from jupyter-client>=6.1.12->ipykernel>=4.5.1->ipywidgets) (2.9.0.post0)\n",
            "Requirement already satisfied: jinja2 in /usr/local/lib/python3.11/dist-packages (from notebook>=4.4.1->widgetsnbextension~=3.6.0->ipywidgets) (3.1.6)\n",
            "Requirement already satisfied: argon2-cffi in /usr/local/lib/python3.11/dist-packages (from notebook>=4.4.1->widgetsnbextension~=3.6.0->ipywidgets) (25.1.0)\n",
            "Requirement already satisfied: nbformat in /usr/local/lib/python3.11/dist-packages (from notebook>=4.4.1->widgetsnbextension~=3.6.0->ipywidgets) (5.10.4)\n",
            "Requirement already satisfied: nbconvert>=5 in /usr/local/lib/python3.11/dist-packages (from notebook>=4.4.1->widgetsnbextension~=3.6.0->ipywidgets) (7.16.6)\n",
            "Requirement already satisfied: Send2Trash>=1.8.0 in /usr/local/lib/python3.11/dist-packages (from notebook>=4.4.1->widgetsnbextension~=3.6.0->ipywidgets) (1.8.3)\n",
            "Requirement already satisfied: terminado>=0.8.3 in /usr/local/lib/python3.11/dist-packages (from notebook>=4.4.1->widgetsnbextension~=3.6.0->ipywidgets) (0.18.1)\n",
            "Requirement already satisfied: prometheus-client in /usr/local/lib/python3.11/dist-packages (from notebook>=4.4.1->widgetsnbextension~=3.6.0->ipywidgets) (0.22.1)\n",
            "Requirement already satisfied: nbclassic>=0.4.7 in /usr/local/lib/python3.11/dist-packages (from notebook>=4.4.1->widgetsnbextension~=3.6.0->ipywidgets) (1.3.1)\n",
            "Requirement already satisfied: ptyprocess>=0.5 in /usr/local/lib/python3.11/dist-packages (from pexpect>4.3->ipython>=4.0.0->ipywidgets) (0.7.0)\n",
            "Requirement already satisfied: wcwidth in /usr/local/lib/python3.11/dist-packages (from prompt-toolkit!=3.0.0,!=3.0.1,<3.1.0,>=2.0.0->ipython>=4.0.0->ipywidgets) (0.2.13)\n",
            "Requirement already satisfied: platformdirs>=2.5 in /usr/local/lib/python3.11/dist-packages (from jupyter-core>=4.6.0->jupyter-client>=6.1.12->ipykernel>=4.5.1->ipywidgets) (4.3.8)\n",
            "Requirement already satisfied: notebook-shim>=0.2.3 in /usr/local/lib/python3.11/dist-packages (from nbclassic>=0.4.7->notebook>=4.4.1->widgetsnbextension~=3.6.0->ipywidgets) (0.2.4)\n",
            "Requirement already satisfied: beautifulsoup4 in /usr/local/lib/python3.11/dist-packages (from nbconvert>=5->notebook>=4.4.1->widgetsnbextension~=3.6.0->ipywidgets) (4.13.4)\n",
            "Requirement already satisfied: bleach!=5.0.0 in /usr/local/lib/python3.11/dist-packages (from bleach[css]!=5.0.0->nbconvert>=5->notebook>=4.4.1->widgetsnbextension~=3.6.0->ipywidgets) (6.2.0)\n",
            "Requirement already satisfied: defusedxml in /usr/local/lib/python3.11/dist-packages (from nbconvert>=5->notebook>=4.4.1->widgetsnbextension~=3.6.0->ipywidgets) (0.7.1)\n",
            "Requirement already satisfied: jupyterlab-pygments in /usr/local/lib/python3.11/dist-packages (from nbconvert>=5->notebook>=4.4.1->widgetsnbextension~=3.6.0->ipywidgets) (0.3.0)\n",
            "Requirement already satisfied: markupsafe>=2.0 in /usr/local/lib/python3.11/dist-packages (from nbconvert>=5->notebook>=4.4.1->widgetsnbextension~=3.6.0->ipywidgets) (3.0.2)\n",
            "Requirement already satisfied: mistune<4,>=2.0.3 in /usr/local/lib/python3.11/dist-packages (from nbconvert>=5->notebook>=4.4.1->widgetsnbextension~=3.6.0->ipywidgets) (3.1.3)\n",
            "Requirement already satisfied: nbclient>=0.5.0 in /usr/local/lib/python3.11/dist-packages (from nbconvert>=5->notebook>=4.4.1->widgetsnbextension~=3.6.0->ipywidgets) (0.10.2)\n",
            "Requirement already satisfied: pandocfilters>=1.4.1 in /usr/local/lib/python3.11/dist-packages (from nbconvert>=5->notebook>=4.4.1->widgetsnbextension~=3.6.0->ipywidgets) (1.5.1)\n",
            "Requirement already satisfied: fastjsonschema>=2.15 in /usr/local/lib/python3.11/dist-packages (from nbformat->notebook>=4.4.1->widgetsnbextension~=3.6.0->ipywidgets) (2.21.1)\n",
            "Requirement already satisfied: jsonschema>=2.6 in /usr/local/lib/python3.11/dist-packages (from nbformat->notebook>=4.4.1->widgetsnbextension~=3.6.0->ipywidgets) (4.25.0)\n",
            "Requirement already satisfied: six>=1.5 in /usr/local/lib/python3.11/dist-packages (from python-dateutil>=2.1->jupyter-client>=6.1.12->ipykernel>=4.5.1->ipywidgets) (1.17.0)\n",
            "Requirement already satisfied: argon2-cffi-bindings in /usr/local/lib/python3.11/dist-packages (from argon2-cffi->notebook>=4.4.1->widgetsnbextension~=3.6.0->ipywidgets) (21.2.0)\n",
            "Requirement already satisfied: webencodings in /usr/local/lib/python3.11/dist-packages (from bleach!=5.0.0->bleach[css]!=5.0.0->nbconvert>=5->notebook>=4.4.1->widgetsnbextension~=3.6.0->ipywidgets) (0.5.1)\n",
            "Requirement already satisfied: tinycss2<1.5,>=1.1.0 in /usr/local/lib/python3.11/dist-packages (from bleach[css]!=5.0.0->nbconvert>=5->notebook>=4.4.1->widgetsnbextension~=3.6.0->ipywidgets) (1.4.0)\n",
            "Requirement already satisfied: attrs>=22.2.0 in /usr/local/lib/python3.11/dist-packages (from jsonschema>=2.6->nbformat->notebook>=4.4.1->widgetsnbextension~=3.6.0->ipywidgets) (25.3.0)\n",
            "Requirement already satisfied: jsonschema-specifications>=2023.03.6 in /usr/local/lib/python3.11/dist-packages (from jsonschema>=2.6->nbformat->notebook>=4.4.1->widgetsnbextension~=3.6.0->ipywidgets) (2025.4.1)\n",
            "Requirement already satisfied: referencing>=0.28.4 in /usr/local/lib/python3.11/dist-packages (from jsonschema>=2.6->nbformat->notebook>=4.4.1->widgetsnbextension~=3.6.0->ipywidgets) (0.36.2)\n",
            "Requirement already satisfied: rpds-py>=0.7.1 in /usr/local/lib/python3.11/dist-packages (from jsonschema>=2.6->nbformat->notebook>=4.4.1->widgetsnbextension~=3.6.0->ipywidgets) (0.26.0)\n",
            "Requirement already satisfied: jupyter-server<3,>=1.8 in /usr/local/lib/python3.11/dist-packages (from notebook-shim>=0.2.3->nbclassic>=0.4.7->notebook>=4.4.1->widgetsnbextension~=3.6.0->ipywidgets) (1.16.0)\n",
            "Requirement already satisfied: cffi>=1.0.1 in /usr/local/lib/python3.11/dist-packages (from argon2-cffi-bindings->argon2-cffi->notebook>=4.4.1->widgetsnbextension~=3.6.0->ipywidgets) (1.17.1)\n",
            "Requirement already satisfied: soupsieve>1.2 in /usr/local/lib/python3.11/dist-packages (from beautifulsoup4->nbconvert>=5->notebook>=4.4.1->widgetsnbextension~=3.6.0->ipywidgets) (2.7)\n",
            "Requirement already satisfied: typing-extensions>=4.0.0 in /usr/local/lib/python3.11/dist-packages (from beautifulsoup4->nbconvert>=5->notebook>=4.4.1->widgetsnbextension~=3.6.0->ipywidgets) (4.14.1)\n",
            "Requirement already satisfied: pycparser in /usr/local/lib/python3.11/dist-packages (from cffi>=1.0.1->argon2-cffi-bindings->argon2-cffi->notebook>=4.4.1->widgetsnbextension~=3.6.0->ipywidgets) (2.22)\n",
            "Requirement already satisfied: anyio>=3.1.0 in /usr/local/lib/python3.11/dist-packages (from jupyter-server<3,>=1.8->notebook-shim>=0.2.3->nbclassic>=0.4.7->notebook>=4.4.1->widgetsnbextension~=3.6.0->ipywidgets) (4.9.0)\n",
            "Requirement already satisfied: websocket-client in /usr/local/lib/python3.11/dist-packages (from jupyter-server<3,>=1.8->notebook-shim>=0.2.3->nbclassic>=0.4.7->notebook>=4.4.1->widgetsnbextension~=3.6.0->ipywidgets) (1.8.0)\n",
            "Requirement already satisfied: idna>=2.8 in /usr/local/lib/python3.11/dist-packages (from anyio>=3.1.0->jupyter-server<3,>=1.8->notebook-shim>=0.2.3->nbclassic>=0.4.7->notebook>=4.4.1->widgetsnbextension~=3.6.0->ipywidgets) (3.10)\n",
            "Requirement already satisfied: sniffio>=1.1 in /usr/local/lib/python3.11/dist-packages (from anyio>=3.1.0->jupyter-server<3,>=1.8->notebook-shim>=0.2.3->nbclassic>=0.4.7->notebook>=4.4.1->widgetsnbextension~=3.6.0->ipywidgets) (1.3.1)\n",
            "Requirement already satisfied: kaleido in /usr/local/lib/python3.11/dist-packages (1.0.0)\n",
            "Requirement already satisfied: choreographer>=1.0.5 in /usr/local/lib/python3.11/dist-packages (from kaleido) (1.0.9)\n",
            "Requirement already satisfied: logistro>=1.0.8 in /usr/local/lib/python3.11/dist-packages (from kaleido) (1.1.0)\n",
            "Requirement already satisfied: orjson>=3.10.15 in /usr/local/lib/python3.11/dist-packages (from kaleido) (3.11.1)\n",
            "Requirement already satisfied: packaging in /usr/local/lib/python3.11/dist-packages (from kaleido) (25.0)\n",
            "Requirement already satisfied: simplejson>=3.19.3 in /usr/local/lib/python3.11/dist-packages (from choreographer>=1.0.5->kaleido) (3.20.1)\n"
          ]
        },
        {
          "output_type": "stream",
          "name": "stderr",
          "text": [
            "/usr/local/lib/python3.11/dist-packages/kaleido/__init__.py:14: UserWarning:\n",
            "\n",
            "\n",
            "\n",
            "Warning: You have Plotly version 5.24.1, which is not compatible with this version of Kaleido (1.0.0).\n",
            "\n",
            "This means that static image generation (e.g. `fig.write_image()`) will not work.\n",
            "\n",
            "Please upgrade Plotly to version 6.1.1 or greater, or downgrade Kaleido to version 0.2.1.\n",
            "\n",
            "\n"
          ]
        }
      ],
      "source": [
        "# Install required packages for Google Colab\n",
        "!pip install plotly networkx scipy joblib ipywidgets\n",
        "\n",
        "\n",
        "# Enable plotly for Colab\n",
        "import plotly.io as pio\n",
        "pio.renderers.default = \"colab\""
      ]
    },
    {
      "cell_type": "markdown",
      "id": "61166b4e",
      "metadata": {
        "id": "61166b4e"
      },
      "source": [
        "## Import Required Libraries"
      ]
    },
    {
      "cell_type": "code",
      "execution_count": null,
      "id": "b459a066",
      "metadata": {
        "id": "b459a066"
      },
      "outputs": [],
      "source": [
        "import matplotlib.pyplot as plt\n",
        "import numpy as np\n",
        "from scipy import signal\n",
        "import joblib\n",
        "from ipywidgets import widgets\n",
        "import scipy.io\n",
        "import networkx as nx\n",
        "import plotly.graph_objects as go\n",
        "import plotly.express as px\n",
        "from plotly.subplots import make_subplots\n",
        "import plotly.figure_factory as ff\n",
        "\n",
        "# Note: Custom modules (mtmvar and utils) will be imported after downloading\n",
        "# Run the download section first to get these modules from the GitHub repository"
      ]
    },
    {
      "cell_type": "markdown",
      "id": "b7eca4d0",
      "metadata": {
        "id": "b7eca4d0"
      },
      "source": [
        "## Helper Functions\n",
        "\n",
        "The `describe_dict` function and other utilities will be imported from the `utils.py` module downloaded from the repository. If you need to run this notebook without downloading the modules, you can uncomment the function definition below:"
      ]
    },
    {
      "cell_type": "code",
      "execution_count": null,
      "id": "af1cfa89",
      "metadata": {
        "id": "af1cfa89"
      },
      "outputs": [],
      "source": [
        "# Backup helper function (uncomment if you can't download utils.py)\n",
        "# def describe_dict(data_dict):\n",
        "#     \"\"\"Simple function to describe the contents of a dictionary\"\"\"\n",
        "#     print(\"Dictionary contents:\")\n",
        "#     for key, value in data_dict.items():\n",
        "#         if isinstance(value, np.ndarray):\n",
        "#             print(f\"{key}: numpy array with shape {value.shape}\")\n",
        "#         else:\n",
        "#             print(f\"{key}: {type(value).__name__} = {value}\")\n",
        "\n",
        "# We'll use the describe_dict function from the downloaded utils.py module\n",
        "print(\"Helper functions will be imported from utils.py after download.\")"
      ]
    },
    {
      "cell_type": "markdown",
      "id": "9c04ef49",
      "metadata": {
        "id": "9c04ef49"
      },
      "source": [
        "## Load and Explore Data\n",
        "\n",
        "The data files are now downloaded automatically from the GitHub repository. Let's load and explore the simulated 3-channel EEG data:"
      ]
    },
    {
      "cell_type": "markdown",
      "id": "6733b742",
      "metadata": {
        "id": "6733b742"
      },
      "source": [
        "## Download Required Files\n",
        "\n",
        "Let's download all the required files directly from the GitHub repository:\n",
        "- Data files (`.joblib` format)\n",
        "- Python modules (`mtmvar.py` and `utils.py`)"
      ]
    },
    {
      "cell_type": "code",
      "execution_count": null,
      "id": "93ab3f9f",
      "metadata": {
        "id": "93ab3f9f"
      },
      "outputs": [],
      "source": [
        "import urllib.request\n",
        "import os\n",
        "\n",
        "# GitHub repository information\n",
        "github_user = \"jzygierewicz\"\n",
        "repo_name = \"SYNCCIN_2025_summer_school\"\n",
        "branch = \"main\"\n",
        "\n",
        "# Files to download\n",
        "files_to_download = [\n",
        "    \"simulated_3_channels.joblib\",\n",
        "    \"EEG_alpha.joblib\",\n",
        "    \"mtmvar.py\",\n",
        "    \"utils.py\"\n",
        "]\n",
        "\n",
        "print(\"Downloading required files from GitHub repository...\")\n",
        "\n",
        "for filename in files_to_download:\n",
        "    url = f\"https://raw.githubusercontent.com/{github_user}/{repo_name}/{branch}/{filename}\"\n",
        "\n",
        "    try:\n",
        "        print(f\"Downloading {filename}...\")\n",
        "        urllib.request.urlretrieve(url, filename)\n",
        "\n",
        "        # Check if file was downloaded successfully\n",
        "        if os.path.exists(filename):\n",
        "            file_size = os.path.getsize(filename)\n",
        "            print(f\"✓ {filename} downloaded successfully ({file_size:,} bytes)\")\n",
        "        else:\n",
        "            print(f\"✗ Failed to download {filename}\")\n",
        "\n",
        "    except Exception as e:\n",
        "        print(f\"✗ Error downloading {filename}: {str(e)}\")\n",
        "        print(f\"  You may need to upload this file manually to your Colab session\")\n",
        "\n",
        "print(\"\\nDownload process completed!\")\n",
        "print(\"\\nAvailable files in current directory:\")\n",
        "for f in os.listdir(\".\"):\n",
        "    if f.endswith((\".joblib\", \".pkl\", \".py\")):\n",
        "        size = os.path.getsize(f)\n",
        "        print(f\"  - {f} ({size:,} bytes)\")\n",
        "\n",
        "# Verify Python modules can be imported\n",
        "print(\"\\nTesting Python module imports...\")\n",
        "try:\n",
        "    from mtmvar import mvar_criterion, AR_coeff, mvar_H, mvar_plot\n",
        "    print(\"✓ mtmvar module imported successfully\")\n",
        "except ImportError as e:\n",
        "    print(f\"✗ Error importing mtmvar: {e}\")\n",
        "\n",
        "try:\n",
        "    from utils import describe_dict\n",
        "    print(\"✓ utils module imported successfully\")\n",
        "except ImportError as e:\n",
        "    print(f\"✗ Error importing utils: {e}\")\n",
        "\n",
        "print(\"\\nSetup completed! You can now run the analysis.\")"
      ]
    },
    {
      "cell_type": "markdown",
      "id": "6b502fb7",
      "metadata": {
        "id": "6b502fb7"
      },
      "source": [
        "## Import Custom Modules\n",
        "\n",
        "Now that we've downloaded the custom modules, let's import the required functions:"
      ]
    },
    {
      "cell_type": "code",
      "execution_count": null,
      "id": "7adb2692",
      "metadata": {
        "id": "7adb2692"
      },
      "outputs": [],
      "source": [
        "# Import custom modules that were downloaded from the repository\n",
        "try:\n",
        "    from mtmvar import mvar_criterion, AR_coeff, mvar_H, mvar_plot\n",
        "    print(\"✓ Successfully imported mtmvar functions:\")\n",
        "    print(\"  - mvar_criterion: MVAR model order selection\")\n",
        "    print(\"  - AR_coeff: Autoregressive coefficient estimation\")\n",
        "    print(\"  - mvar_H: MVAR transfer function calculation\")\n",
        "    print(\"  - mvar_plot: MVAR results visualization\")\n",
        "except ImportError as e:\n",
        "    print(f\"✗ Error importing mtmvar module: {e}\")\n",
        "    print(\"Make sure you ran the download section first!\")\n",
        "\n",
        "try:\n",
        "    from utils import describe_dict\n",
        "    print(\"✓ Successfully imported utils functions:\")\n",
        "    print(\"  - describe_dict: Dictionary content description utility\")\n",
        "except ImportError as e:\n",
        "    print(f\"✗ Error importing utils module: {e}\")\n",
        "    print(\"Make sure you ran the download section first!\")\n",
        "\n",
        "print(\"\\nAll modules ready for EEG connectivity analysis!\")"
      ]
    },
    {
      "cell_type": "code",
      "execution_count": null,
      "id": "75ed527e",
      "metadata": {
        "id": "75ed527e"
      },
      "outputs": [],
      "source": [
        "# Load simulation data from simulated_3_channels.joblib\n",
        "# This file was downloaded automatically from the GitHub repository\n",
        "data = joblib.load('simulated_3_channels.joblib')\n",
        "describe_dict(data)\n",
        "\n",
        "sim1 = data['EEG']\n",
        "Fs = data['Fs']\n",
        "N_chan, N_samp = sim1.shape\n",
        "\n",
        "print(f\"Number of channels: {N_chan}\")\n",
        "print(f\"Number of samples: {N_samp}\")\n",
        "print(f\"Sampling frequency: {Fs} Hz\")"
      ]
    },
    {
      "cell_type": "markdown",
      "id": "bdfc475e",
      "metadata": {
        "id": "bdfc475e"
      },
      "source": [
        "## Visualize the Signals\n",
        "\n",
        "Let's plot the first 150 samples of each channel using interactive Plotly plots for better zooming:"
      ]
    },
    {
      "cell_type": "code",
      "execution_count": null,
      "id": "877d1b88",
      "metadata": {
        "id": "877d1b88"
      },
      "outputs": [],
      "source": [
        "# Plot the signals using Plotly for interactive zooming\n",
        "idx = np.arange(0, 150, 1)\n",
        "time_samples = idx\n",
        "\n",
        "fig = make_subplots(\n",
        "    rows=N_chan, cols=1,\n",
        "    shared_xaxes=True,\n",
        "    subplot_titles=[f'Channel {i}' for i in range(N_chan)],\n",
        "    vertical_spacing=0.05\n",
        ")\n",
        "\n",
        "colors = px.colors.qualitative.Set1[:N_chan]\n",
        "\n",
        "for i in range(N_chan):\n",
        "    fig.add_trace(\n",
        "        go.Scatter(\n",
        "            x=time_samples,\n",
        "            y=sim1[i, idx],\n",
        "            mode='lines+markers',\n",
        "            name=f'Channel {i}',\n",
        "            line=dict(color=colors[i]),\n",
        "            marker=dict(size=4)\n",
        "        ),\n",
        "        row=i+1, col=1\n",
        "    )\n",
        "\n",
        "fig.update_layout(\n",
        "    height=150*N_chan + 100,\n",
        "    title_text=\"EEG Signals (First 150 samples)\",\n",
        "    showlegend=False\n",
        ")\n",
        "\n",
        "fig.update_xaxes(title_text=\"Time [samples]\", row=N_chan, col=1)\n",
        "fig.update_yaxes(title_text=\"Amplitude\")\n",
        "\n",
        "fig.show()"
      ]
    },
    {
      "cell_type": "markdown",
      "id": "de00822f",
      "metadata": {
        "id": "de00822f"
      },
      "source": [
        "## Cross-Correlation Analysis\n",
        "\n",
        "Now let's estimate cross-correlation functions for each pair of channels and find the delay for maximum correlation:"
      ]
    },
    {
      "cell_type": "code",
      "execution_count": null,
      "id": "7e5bf3d4",
      "metadata": {
        "id": "7e5bf3d4"
      },
      "outputs": [],
      "source": [
        "# Estimate cross correlation functions for each pair of channels\n",
        "C = np.zeros((N_chan, N_chan, 2*N_samp-1))\n",
        "corr = np.zeros((N_chan, N_chan))\n",
        "delays = np.zeros((N_chan, N_chan))\n",
        "\n",
        "print(\"Computing cross-correlations...\")\n",
        "for i in range(N_chan):\n",
        "    for j in range(N_chan):\n",
        "        if i != j:\n",
        "            # Calculate cross-correlation\n",
        "            C[i, j, :] = signal.correlate(sim1[i, :], sim1[j, :], mode='full')\n",
        "            lags = signal.correlation_lags(len(sim1[i, :]), len(sim1[j, :]), mode='full')\n",
        "            max_lag = lags[np.argmax(C[i, j, :])]\n",
        "\n",
        "            corr[i, j] = C[i, j, N_samp + max_lag]\n",
        "            delays[i, j] = max_lag\n",
        "\n",
        "            print(f\"Max correlation between channel {i} and {j} is at lag {max_lag} samples\")\n",
        "            print(f\"Max correlation value: {C[i, j, N_samp+max_lag]:.4f}\")\n",
        "\n",
        "# Normalize correlation matrix\n",
        "corr = corr / np.max(corr)\n",
        "print(\"\\nCross-correlation analysis completed!\")"
      ]
    },
    {
      "cell_type": "markdown",
      "id": "2e84d1fc",
      "metadata": {
        "id": "2e84d1fc"
      },
      "source": [
        "## Visualize Cross-Correlation Matrix\n",
        "\n",
        "Interactive heatmap showing the correlation strengths between channels:"
      ]
    },
    {
      "cell_type": "code",
      "execution_count": null,
      "id": "5baafa45",
      "metadata": {
        "id": "5baafa45"
      },
      "outputs": [],
      "source": [
        "# Create interactive correlation matrix heatmap\n",
        "channel_labels = [f'Ch {i}' for i in range(N_chan)]\n",
        "\n",
        "fig = go.Figure(data=go.Heatmap(\n",
        "    z=corr,\n",
        "    x=channel_labels,\n",
        "    y=channel_labels,\n",
        "    colorscale='RdBu_r',\n",
        "    zmid=0,\n",
        "    zmin=-1,\n",
        "    zmax=1,\n",
        "    text=np.round(corr, 3),\n",
        "    texttemplate=\"%{text}\",\n",
        "    textfont={\"size\": 12},\n",
        "    colorbar=dict(title=\"Correlation\")\n",
        "))\n",
        "\n",
        "fig.update_layout(\n",
        "    title='Cross-Correlation Matrix',\n",
        "    xaxis_title='Channels',\n",
        "    yaxis_title='Channels',\n",
        "    width=500,\n",
        "    height=500\n",
        ")\n",
        "\n",
        "fig.show()"
      ]
    },
    {
      "cell_type": "markdown",
      "id": "89bd7a2b",
      "metadata": {
        "id": "89bd7a2b"
      },
      "source": [
        "## Visualize Delays Matrix\n",
        "\n",
        "Interactive heatmap showing the time delays between channels:"
      ]
    },
    {
      "cell_type": "code",
      "execution_count": null,
      "id": "1dffd94c",
      "metadata": {
        "id": "1dffd94c"
      },
      "outputs": [],
      "source": [
        "# Create interactive delays matrix heatmap\n",
        "fig = go.Figure(data=go.Heatmap(\n",
        "    z=delays,\n",
        "    x=channel_labels,\n",
        "    y=channel_labels,\n",
        "    colorscale='RdBu_r',\n",
        "    text=delays.astype(int),\n",
        "    texttemplate=\"%{text}\",\n",
        "    textfont={\"size\": 12},\n",
        "    colorbar=dict(title=\"Delay (samples)\")\n",
        "))\n",
        "\n",
        "fig.update_layout(\n",
        "    title='Delays Matrix',\n",
        "    xaxis_title='Channels',\n",
        "    yaxis_title='Channels',\n",
        "    width=500,\n",
        "    height=500\n",
        ")\n",
        "\n",
        "fig.show()"
      ]
    },
    {
      "cell_type": "markdown",
      "id": "638d9e75",
      "metadata": {
        "id": "638d9e75"
      },
      "source": [
        "## Network Graph Visualization\n",
        "\n",
        "Create a directed graph showing the connectivity between channels:"
      ]
    },
    {
      "cell_type": "code",
      "execution_count": null,
      "id": "3404a907",
      "metadata": {
        "id": "3404a907"
      },
      "outputs": [],
      "source": [
        "# Prepare data for network graph\n",
        "delays_processed = delays.copy()\n",
        "delays_processed[delays_processed > 0] = 0  # Put positive delays to 0\n",
        "\n",
        "# Create a directed graph from the delays matrix\n",
        "G = nx.from_numpy_array(delays_processed, create_using=nx.DiGraph)\n",
        "\n",
        "# Set the weights of the edges to the corr values\n",
        "for u, v, d in G.edges(data=True):\n",
        "    d['weight'] = abs(corr[u, v])\n",
        "    d['delay'] = abs(delays_processed[u, v])\n",
        "\n",
        "# Compute the positions of the nodes using a layout algorithm\n",
        "pos = nx.spring_layout(G, seed=42)  # Fixed seed for reproducible layout\n",
        "\n",
        "print(f\"Network has {G.number_of_nodes()} nodes and {G.number_of_edges()} edges\")"
      ]
    },
    {
      "cell_type": "markdown",
      "id": "0c4d914a",
      "metadata": {
        "id": "0c4d914a"
      },
      "source": [
        "## Interactive Network Plot\n",
        "\n",
        "Plotly interactive network visualization:"
      ]
    },
    {
      "cell_type": "code",
      "execution_count": null,
      "id": "be1b6aa5",
      "metadata": {
        "id": "be1b6aa5"
      },
      "outputs": [],
      "source": [
        "# Create interactive network plot with Plotly\n",
        "edge_x = []\n",
        "edge_y = []\n",
        "edge_info = []\n",
        "\n",
        "for edge in G.edges(data=True):\n",
        "    x0, y0 = pos[edge[0]]\n",
        "    x1, y1 = pos[edge[1]]\n",
        "    edge_x.extend([x0, x1, None])\n",
        "    edge_y.extend([y0, y1, None])\n",
        "\n",
        "    weight = edge[2]['weight']\n",
        "    delay = edge[2]['delay']\n",
        "    edge_info.append(f\"From Ch{edge[0]} to Ch{edge[1]}<br>Weight: {weight:.3f}<br>Delay: {delay:.2f}\")\n",
        "\n",
        "edge_trace = go.Scatter(\n",
        "    x=edge_x, y=edge_y,\n",
        "    line=dict(width=2, color='#888'),\n",
        "    hoverinfo='none',\n",
        "    mode='lines'\n",
        ")\n",
        "\n",
        "node_x = []\n",
        "node_y = []\n",
        "node_text = []\n",
        "node_info = []\n",
        "\n",
        "for node in G.nodes():\n",
        "    x, y = pos[node]\n",
        "    node_x.append(x)\n",
        "    node_y.append(y)\n",
        "    node_text.append(f'Ch {node}')\n",
        "\n",
        "    # Get adjacency info\n",
        "    adjacencies = list(G.neighbors(node))\n",
        "    node_info.append(f'Channel {node}<br>Connections: {len(adjacencies)}<br>Adjacent to: {\", \".join([str(adj) for adj in adjacencies])}')\n",
        "\n",
        "node_trace = go.Scatter(\n",
        "    x=node_x, y=node_y,\n",
        "    mode='markers+text',\n",
        "    hoverinfo='text',\n",
        "    text=node_text,\n",
        "    textposition=\"middle center\",\n",
        "    hovertext=node_info,\n",
        "    marker=dict(\n",
        "        showscale=True,\n",
        "        colorscale='YlGnBu',\n",
        "        reversescale=True,\n",
        "        color=[],\n",
        "        size=30,\n",
        "        colorbar=dict(\n",
        "            thickness=15,\n",
        "            title=\"Node Connections\",\n",
        "            xanchor=\"left\",\n",
        "            titleside=\"right\"\n",
        "        ),\n",
        "        line=dict(width=2, color='black')\n",
        "    )\n",
        ")\n",
        "\n",
        "# Color nodes by number of connections\n",
        "node_adjacencies = []\n",
        "for node in G.nodes():\n",
        "    node_adjacencies.append(len(list(G.neighbors(node))))\n",
        "\n",
        "node_trace.marker.color = node_adjacencies\n",
        "\n",
        "fig = go.Figure(data=[edge_trace, node_trace],\n",
        "                layout=go.Layout(\n",
        "                    title='Interactive Network Graph of Channel Connectivity<br>(Node size and color represent number of connections)',\n",
        "                    titlefont_size=16,\n",
        "                    showlegend=False,\n",
        "                    hovermode='closest',\n",
        "                    margin=dict(b=20,l=5,r=5,t=40),\n",
        "                    annotations=[ dict(\n",
        "                        text=\"Hover over nodes and edges for more information\",\n",
        "                        showarrow=False,\n",
        "                        xref=\"paper\", yref=\"paper\",\n",
        "                        x=0.005, y=-0.002,\n",
        "                        xanchor='left', yanchor='bottom',\n",
        "                        font=dict(size=12)\n",
        "                    )],\n",
        "                    xaxis=dict(showgrid=False, zeroline=False, showticklabels=False),\n",
        "                    yaxis=dict(showgrid=False, zeroline=False, showticklabels=False),\n",
        "                    width=800,\n",
        "                    height=600\n",
        "                ))\n",
        "\n",
        "fig.show()"
      ]
    },
    {
      "cell_type": "markdown",
      "id": "25e3e8c7",
      "metadata": {
        "id": "25e3e8c7"
      },
      "source": [
        "## Alternative: Traditional Matplotlib Network Plot\n",
        "\n",
        "For comparison, here's the traditional matplotlib version (non-interactive):"
      ]
    },
    {
      "cell_type": "code",
      "execution_count": null,
      "id": "d03fe3b3",
      "metadata": {
        "id": "d03fe3b3"
      },
      "outputs": [],
      "source": [
        "# Traditional matplotlib network plot\n",
        "plt.figure(figsize=(10, 8))\n",
        "nx.draw(G, pos, with_labels=True, arrows=True,\n",
        "        width=[d['weight'] * 5 for u, v, d in G.edges(data=True)],\n",
        "        node_size=1000,\n",
        "        edge_color='black',\n",
        "        arrowstyle='->',\n",
        "        arrowsize=20,\n",
        "        connectionstyle='arc3,rad=0.2',\n",
        "        node_color='lightblue',\n",
        "        font_size=14,\n",
        "        font_weight='bold')\n",
        "\n",
        "edge_labels = {(u, v): f\"{d['delay']:.2f}\" for u, v, d in G.edges(data=True)}\n",
        "nx.draw_networkx_edge_labels(G, pos, edge_labels=edge_labels, font_color='red', font_size=12)\n",
        "\n",
        "plt.title('Directed Graph of Delays with Edge Weights', fontsize=16, fontweight='bold')\n",
        "plt.axis('off')\n",
        "plt.tight_layout()\n",
        "plt.show()"
      ]
    },
    {
      "cell_type": "markdown",
      "id": "a7c295d7",
      "metadata": {
        "id": "a7c295d7"
      },
      "source": [
        "## Summary Statistics"
      ]
    },
    {
      "cell_type": "code",
      "execution_count": null,
      "id": "02028e0d",
      "metadata": {
        "id": "02028e0d"
      },
      "outputs": [],
      "source": [
        "# Display summary statistics\n",
        "print(\"=== CONNECTIVITY ANALYSIS SUMMARY ===\")\n",
        "print(f\"Number of channels analyzed: {N_chan}\")\n",
        "print(f\"Sampling frequency: {Fs} Hz\")\n",
        "print(f\"Data length: {N_samp} samples\")\n",
        "print(\"\\n=== CORRELATION STATISTICS ===\")\n",
        "print(f\"Maximum correlation: {np.max(corr):.4f}\")\n",
        "print(f\"Minimum correlation: {np.min(corr[corr != 0]):.4f}\")\n",
        "print(f\"Mean correlation (non-zero): {np.mean(corr[corr != 0]):.4f}\")\n",
        "print(\"\\n=== DELAY STATISTICS ===\")\n",
        "print(f\"Maximum delay: {np.max(delays)} samples\")\n",
        "print(f\"Minimum delay: {np.min(delays)} samples\")\n",
        "print(f\"Mean absolute delay: {np.mean(np.abs(delays[delays != 0])):.2f} samples\")\n",
        "print(\"\\n=== NETWORK STATISTICS ===\")\n",
        "print(f\"Number of edges: {G.number_of_edges()}\")\n",
        "print(f\"Network density: {nx.density(G):.3f}\")\n",
        "if G.number_of_edges() > 0:\n",
        "    print(f\"Average clustering coefficient: {nx.average_clustering(G):.3f}\")"
      ]
    },
    {
      "cell_type": "markdown",
      "id": "efa0315f",
      "metadata": {
        "id": "efa0315f"
      },
      "source": [
        "## Conclusions\n",
        "\n",
        "### Key Findings:\n",
        "\n",
        "1. **Cross-correlation Matrix**: Shows the strength of coupling between channels at their optimal time delays\n",
        "2. **Delays Matrix**: Reveals the time lags at which maximum correlation occurs between channel pairs\n",
        "3. **Network Visualization**: Provides an intuitive representation of the connectivity structure\n",
        "\n",
        "### Limitations of This Approach:\n",
        "\n",
        "- **Direct vs. Indirect Coupling**: This correlation-based method cannot distinguish between direct and indirect connections\n",
        "- **Multivariate Effects**: The analysis doesn't account for the influence of other channels when examining pairwise relationships\n",
        "- **Linear Assumptions**: Cross-correlation primarily captures linear relationships\n",
        "\n",
        "### Next Steps:\n",
        "\n",
        "For a more comprehensive connectivity analysis, consider:\n",
        "- Partial correlation analysis to control for indirect effects\n",
        "- Multivariate autoregressive (MVAR) modeling\n",
        "- Granger causality analysis\n",
        "- Directed transfer function (DTF) or partial directed coherence (PDC)\n",
        "\n",
        "This bivariate approach serves as a useful starting point for understanding the basic connectivity patterns in your data."
      ]
    }
  ],
  "metadata": {
    "language_info": {
      "name": "python"
    },
    "colab": {
      "provenance": []
    },
    "kernelspec": {
      "name": "python3",
      "display_name": "Python 3"
    }
  },
  "nbformat": 4,
  "nbformat_minor": 5
}