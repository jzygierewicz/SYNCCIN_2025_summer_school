{
  "cells": [
    {
      "cell_type": "markdown",
      "id": "3d91072a",
      "metadata": {
        "id": "3d91072a"
      },
      "source": [
        "# Comparison of Multivariate vs. Bivariate Approach to Connectivity Estimation\n",
        "**SYNCCIN 2025 Summer School**\n",
        "\n",
        "[![Open In Colab](https://colab.research.google.com/assets/colab-badge.svg)](https://colab.research.google.com/github/jzygierewicz/SYNCCIN_2025_summer_school/blob/main/3_channels_correlations.ipynb)\n",
        "\n",
        "---\n",
        "\n",
        "This notebook demonstrates connectivity analysis using cross-correlation and delay estimation between multiple EEG channels. The analysis includes:\n",
        "- Loading simulated 3-channel EEG data\n",
        "- Cross-correlation analysis between channel pairs\n",
        "- Delay estimation and visualization\n",
        "- Network graph representation of channel connectivity\n",
        "---\n"
      ]
    },
    {
      "cell_type": "markdown",
      "id": "1bbf9dfa",
      "metadata": {
        "id": "1bbf9dfa"
      },
      "source": [
        "The simulation follows the scheme:\n",
        "\n",
        "<img src=\"https://raw.githubusercontent.com/jzygierewicz/SYNCCIN_2025_summer_school/main/3chan_sim.png\" alt=\"Simulated 3-channel EEG scheme\" width=\"50%\">\n",
        "\n",
        "where channel 0  contains the orignal EEG alpha activity."
      ]
    },
    {
      "cell_type": "markdown",
      "id": "11cc4192",
      "metadata": {
        "id": "11cc4192"
      },
      "source": [
        "## Setup and Installation\n",
        "\n",
        "First, let's install the required packages for Google Colab:"
      ]
    },
    {
      "cell_type": "code",
      "execution_count": null,
      "id": "98ed4c3d",
      "metadata": {
        "id": "98ed4c3d"
      },
      "outputs": [],
      "source": [
        "# Install required packages for Google Colab\n",
        "!pip install xmltodict neurokit2\n",
        "# !pip install networkx scipy joblib ipywidgets xmltodict neurokit2"
      ]
    },
    {
      "cell_type": "markdown",
      "id": "61166b4e",
      "metadata": {
        "id": "61166b4e"
      },
      "source": [
        "### Import Required Libraries"
      ]
    },
    {
      "cell_type": "code",
      "execution_count": null,
      "id": "b459a066",
      "metadata": {
        "id": "b459a066"
      },
      "outputs": [],
      "source": [
        "import matplotlib.pyplot as plt\n",
        "import seaborn as sns\n",
        "import numpy as np\n",
        "from scipy import signal\n",
        "import joblib\n",
        "import networkx as nx\n",
        "\n",
        "# Note: Custom modules (mtmvar and utils) will be imported after downloading\n",
        "# Run the download section first to get these modules from the GitHub repository"
      ]
    },
    {
      "cell_type": "markdown",
      "id": "6733b742",
      "metadata": {
        "id": "6733b742"
      },
      "source": [
        "### Download Required Files\n",
        "\n",
        "Let's download all the required files directly from the GitHub repository:\n",
        "- Data files (`.joblib` format)\n",
        "- Python modules (`mtmvar.py` and `utils.py`)"
      ]
    },
    {
      "cell_type": "code",
      "execution_count": null,
      "id": "93ab3f9f",
      "metadata": {
        "id": "93ab3f9f"
      },
      "outputs": [],
      "source": [
        "import urllib.request\n",
        "import os\n",
        "\n",
        "# GitHub repository information\n",
        "github_user = \"jzygierewicz\"\n",
        "repo_name = \"SYNCCIN_2025_summer_school\"\n",
        "branch = \"main\"\n",
        "\n",
        "# Files to download\n",
        "files_to_download = [\n",
        "    \"simulated_3_channels.joblib\",\n",
        "    \"mtmvar.py\",\n",
        "    \"utils.py\"\n",
        "]\n",
        "\n",
        "print(\"Downloading required files from GitHub repository...\")\n",
        "\n",
        "for filename in files_to_download:\n",
        "    url = f\"https://raw.githubusercontent.com/{github_user}/{repo_name}/{branch}/{filename}\"\n",
        "\n",
        "    try:\n",
        "        print(f\"Downloading {filename}...\")\n",
        "        urllib.request.urlretrieve(url, filename)\n",
        "\n",
        "        # Check if file was downloaded successfully\n",
        "        if os.path.exists(filename):\n",
        "            file_size = os.path.getsize(filename)\n",
        "            print(f\" {filename} downloaded successfully ({file_size:,} bytes)\")\n",
        "        else:\n",
        "            print(f\" Failed to download {filename}\")\n",
        "\n",
        "    except Exception as e:\n",
        "        print(f\" Error downloading {filename}: {str(e)}\")\n",
        "        print(f\"  You may need to upload this file manually to your Colab session\")\n",
        "\n",
        "print(\"\\nDownload process completed!\")\n",
        "print(\"\\nAvailable files in current directory:\")\n",
        "for f in os.listdir(\".\"):\n",
        "    if f.endswith((\".joblib\", \".pkl\", \".py\")):\n",
        "        size = os.path.getsize(f)\n",
        "        print(f\"  - {f} ({size:,} bytes)\")\n",
        "\n",
        "# Verify Python modules can be imported\n",
        "print(\"\\nTesting Python module imports...\")\n",
        "try:\n",
        "    from mtmvar import mvar_criterion, AR_coeff, mvar_H, mvar_plot\n",
        "    print(\" mtmvar module imported successfully\")\n",
        "except ImportError as e:\n",
        "    print(f\" Error importing mtmvar: {e}\")\n",
        "\n",
        "try:\n",
        "    from utils import describe_dict\n",
        "    print(\" utils module imported successfully\")\n",
        "except ImportError as e:\n",
        "    print(f\" Error importing utils: {e}\")\n",
        "\n",
        "print(\"\\nSetup completed! You can now run the analysis.\")"
      ]
    },
    {
      "cell_type": "markdown",
      "source": [
        "## Load and Explore Data"
      ],
      "metadata": {
        "id": "aZqT86gbXi8A"
      },
      "id": "aZqT86gbXi8A"
    },
    {
      "cell_type": "code",
      "execution_count": null,
      "id": "75ed527e",
      "metadata": {
        "id": "75ed527e"
      },
      "outputs": [],
      "source": [
        "# Load simulation data from simulated_3_channels.joblib\n",
        "# This file was downloaded automatically from the GitHub repository\n",
        "data = joblib.load('simulated_3_channels.joblib')\n",
        "describe_dict(data)\n",
        "\n",
        "sim1 = data['EEG']\n",
        "Fs = data['Fs'].item()\n",
        "N_chan, N_samp = sim1.shape\n",
        "\n",
        "print(f\"Number of channels: {N_chan}\")\n",
        "print(f\"Number of samples: {N_samp}\")\n",
        "print(f\"Sampling frequency: {Fs} Hz\")"
      ]
    },
    {
      "cell_type": "markdown",
      "id": "bdfc475e",
      "metadata": {
        "id": "bdfc475e"
      },
      "source": [
        "## Visualize the Signals\n",
        "\n",
        "Let's plot the first 50 samples of each:"
      ]
    },
    {
      "cell_type": "code",
      "execution_count": null,
      "id": "877d1b88",
      "metadata": {
        "id": "877d1b88"
      },
      "outputs": [],
      "source": [
        "# Visualize the first 50 samples to see the delay structure\n",
        "idx = np.arange(0, 50, 1)\n",
        "Min = np.min(sim1[:, idx])\n",
        "Max = np.max(sim1[:, idx])\n",
        "\n",
        "# Create figure with N_chan subplots\n",
        "fig, ax = plt.subplots(N_chan, 1, sharex=True, figsize=(12, 6))\n",
        "fig.suptitle('3-Channel Simulation: Delay Structure Visualization', fontsize=14, fontweight='bold')\n",
        "\n",
        "for i in range(N_chan):\n",
        "    ax[i].stem(idx, sim1[i, idx], basefmt=\" \")\n",
        "    ax[i].set_ylabel(f'Ch {i}', fontweight='bold')\n",
        "    ax[i].set_ylim([Min, Max])\n",
        "    ax[i].grid(True, alpha=0.3)\n",
        "\n",
        "    # Highlight the marker region\n",
        "    ax[i].axvspan(7.5, 10.5, alpha=0.2, color='red', label='Marker Region')\n",
        "\n",
        "ax[N_chan-1].set_xlabel('Time [samples]', fontweight='bold')\n",
        "ax[0].legend()\n",
        "plt.tight_layout()\n",
        "plt.show()\n",
        "\n",
        "print(\"Observe the marker (red region) progression across channels\")\n",
        "print(\"Notice how the marker appears later in higher-numbered channels\")\n",
        "print(\"This demonstrates the simulated connectivity structure\")"
      ]
    },
    {
      "cell_type": "markdown",
      "id": "de00822f",
      "metadata": {
        "id": "de00822f"
      },
      "source": [
        "## Cross-Correlation Analysis\n",
        "\n",
        "Now let's estimate cross-correlation functions for each pair of channels and find the delay for maximum correlation:"
      ]
    },
    {
      "cell_type": "code",
      "execution_count": null,
      "id": "7e5bf3d4",
      "metadata": {
        "id": "7e5bf3d4"
      },
      "outputs": [],
      "source": [
        "C = np.zeros((N_chan, N_chan, 2*N_samp-1))\n",
        "corr = np.zeros((N_chan, N_chan))\n",
        "delays = np.zeros((N_chan, N_chan))\n",
        "\n",
        "print(\"Computing cross-correlations...\")\n",
        "for i in range(N_chan):\n",
        "    for j in range(N_chan):\n",
        "        if i != j: # this will cause the autocorrelations to remain zero, as they are not interesting\n",
        "            # Calculate cross-correlation\n",
        "            C[i, j, :] = signal.correlate(sim1[i, :], sim1[j, :], mode='full')\n",
        "            lags = signal.correlation_lags(len(sim1[i, :]), len(sim1[j, :]), mode='full')\n",
        "            max_lag = lags[np.argmax(C[i, j, :])]\n",
        "\n",
        "            corr[i, j] = C[i, j, N_samp + max_lag]\n",
        "            delays[i, j] = max_lag\n",
        "\n",
        "            print(f\"Max correlation between channel {i} and {j} is at lag {max_lag} samples\")\n",
        "            print(f\"Max correlation value: {C[i, j, N_samp+max_lag]:.4f}\")\n",
        "\n",
        "# Normalize correlation matrix\n",
        "corr = corr / np.max(corr)\n",
        "print(\"\\nCross-correlation analysis completed!\")"
      ]
    },
    {
      "cell_type": "markdown",
      "id": "2e84d1fc",
      "metadata": {
        "id": "2e84d1fc"
      },
      "source": [
        "### Visualize Cross-Correlation Matrix\n",
        "\n",
        "Heatmap showing the correlation strengths between channels, for this simulatios all channels are highly correlated. Note that the autocorrelation (on diagonal) were put to zero in the previous cell:"
      ]
    },
    {
      "cell_type": "code",
      "execution_count": null,
      "id": "5baafa45",
      "metadata": {
        "id": "5baafa45"
      },
      "outputs": [],
      "source": [
        "channel_labels = [f'Ch {i}' for i in range(N_chan)]\n",
        "\n",
        "plt.figure(figsize=(6, 5))\n",
        "sns.heatmap(corr, annot=True, cmap='RdBu_r', fmt=\".3f\",\n",
        "            xticklabels=channel_labels, yticklabels=channel_labels,\n",
        "            vmin=-1, vmax=1, center=0)\n",
        "\n",
        "plt.title('Cross-Correlation Matrix', fontsize=14)\n",
        "plt.xlabel('Channels', fontsize=12)\n",
        "plt.ylabel('Channels', fontsize=12)\n",
        "plt.show()"
      ]
    },
    {
      "cell_type": "code",
      "source": [],
      "metadata": {
        "id": "0u06udgmcNiI"
      },
      "id": "0u06udgmcNiI",
      "execution_count": null,
      "outputs": []
    },
    {
      "cell_type": "markdown",
      "id": "89bd7a2b",
      "metadata": {
        "id": "89bd7a2b"
      },
      "source": [
        "### Visualize Delays Matrix\n",
        "\n",
        "Heatmap showing the time delays between channels:"
      ]
    },
    {
      "cell_type": "code",
      "execution_count": null,
      "id": "1dffd94c",
      "metadata": {
        "id": "1dffd94c"
      },
      "outputs": [],
      "source": [
        "plt.figure(figsize=(6, 5))\n",
        "sns.heatmap(delays, annot=True, cmap='RdBu_r', fmt=\".0f\",\n",
        "            xticklabels=channel_labels, yticklabels=channel_labels,\n",
        "            vmin=-2, vmax=2, center=0)\n",
        "\n",
        "plt.title('Delays Matrix', fontsize=14)\n",
        "plt.xlabel('Channels', fontsize=12)\n",
        "plt.ylabel('Channels', fontsize=12)\n",
        "plt.show()"
      ]
    },
    {
      "cell_type": "markdown",
      "id": "638d9e75",
      "metadata": {
        "id": "638d9e75"
      },
      "source": [
        "## Network Graph Visualization\n",
        "\n",
        "Connectivity structure is easier to perceive in a graph form.\n",
        "\n",
        "Create a directed graph showing the connectivity between channels:\n",
        "\n"
      ]
    },
    {
      "cell_type": "markdown",
      "source": [
        "### Prepare data for network graph"
      ],
      "metadata": {
        "id": "EQqTnJ8OZrMN"
      },
      "id": "EQqTnJ8OZrMN"
    },
    {
      "cell_type": "code",
      "execution_count": null,
      "id": "3404a907",
      "metadata": {
        "id": "3404a907"
      },
      "outputs": [],
      "source": [
        "delays_processed = delays.copy()\n",
        "delays_processed[delays_processed > 0] = 0  # Put positive delays to 0\n",
        "\n",
        "# Create a directed graph from the delays matrix\n",
        "G = nx.from_numpy_array(delays_processed, create_using=nx.DiGraph)\n",
        "\n",
        "# Set the weights of the edges to the corr values\n",
        "for u, v, d in G.edges(data=True):\n",
        "    d['weight'] = abs(corr[u, v])\n",
        "    d['delay'] = abs(delays_processed[u, v])\n",
        "\n",
        "# Compute the positions of the nodes using a layout algorithm\n",
        "pos = nx.spring_layout(G, seed=42)  # Fixed seed for reproducible layout\n"
      ]
    },
    {
      "cell_type": "markdown",
      "id": "25e3e8c7",
      "metadata": {
        "id": "25e3e8c7"
      },
      "source": [
        "### Network Plot"
      ]
    },
    {
      "cell_type": "code",
      "execution_count": null,
      "id": "d03fe3b3",
      "metadata": {
        "id": "d03fe3b3"
      },
      "outputs": [],
      "source": [
        "plt.figure(figsize=(4, 4))\n",
        "nx.draw(G, pos, with_labels=True, arrows=True,\n",
        "        width=[d['weight'] * 5 for u, v, d in G.edges(data=True)],\n",
        "        node_size=1000,\n",
        "        edge_color='black',\n",
        "        arrowstyle='->',\n",
        "        arrowsize=20,\n",
        "        connectionstyle='arc3,rad=0.2',\n",
        "        node_color='lightblue',\n",
        "        font_size=14,\n",
        "        font_weight='bold')\n",
        "\n",
        "edge_labels = {(u, v): f\"{d['delay']:.2f}\" for u, v, d in G.edges(data=True)}\n",
        "nx.draw_networkx_edge_labels(G, pos, edge_labels=edge_labels, font_color='red', font_size=12)\n",
        "\n",
        "plt.title('Directed Graph showing Delays on the Edges', fontsize=14, fontweight='bold')\n",
        "plt.axis('off')\n",
        "plt.show()"
      ]
    },
    {
      "cell_type": "markdown",
      "source": [
        "Compare the obtained graph with the simulation scheme:\n",
        "\n",
        "<img src=\"https://raw.githubusercontent.com/jzygierewicz/SYNCCIN_2025_summer_school/main/3chan_sim.png\" alt=\"Simulated 3-channel EEG scheme\" width=\"50%\">\n"
      ],
      "metadata": {
        "id": "_VxT9x1taoPU"
      },
      "id": "_VxT9x1taoPU"
    },
    {
      "cell_type": "markdown",
      "id": "efa0315f",
      "metadata": {
        "id": "efa0315f"
      },
      "source": [
        "## Conclusions\n",
        "\n",
        "**Key Findings:**\n",
        "\n",
        "1. **Cross-correlation Matrix**: Shows the strength of coupling between channels at their optimal time delays\n",
        "2. **Delays Matrix**: Reveals the time lags at which maximum correlation occurs between channel pairs\n",
        "3. **Network Visualization**: Provides an intuitive representation of the connectivity structure\n",
        "\n",
        "**Limitations of This Approach:**\n",
        "\n",
        "- **Direct vs. Indirect Coupling**: This correlation-based method cannot distinguish between direct and indirect connections\n",
        "- **Multivariate Effects**: The analysis doesn't account for the influence of other channels when examining pairwise relationships\n",
        "- **Linear Assumptions**: Cross-correlation primarily captures linear relationships\n",
        "\n",
        "## Next Steps:\n",
        "\n",
        "For a more comprehensive connectivity analysis, consider:\n",
        "- Partial correlation analysis to control for indirect effects\n",
        "- Multivariate autoregressive (MVAR) modeling such as Directed transfer function (DTF) or partial directed coherence (PDC)\n",
        "\n",
        "This bivariate approach serves as a useful starting point for understanding the basic connectivity patterns in your data."
      ]
    },
    {
      "cell_type": "markdown",
      "id": "f69de49d",
      "metadata": {
        "id": "f69de49d"
      },
      "source": [
        "---\n",
        "\n",
        "**Educational Materials**: [SYNCCIN 2025 Repository](https://github.com/jzygierewicz/SYNCCIN_2025_summer_school)\n",
        "- **Author**: Jarosław Żygierewicz\n",
        "- **Institution**: University of Warsaw\n",
        "- **Event**: SYNCCIN 2025 Summer School"
      ]
    }
  ],
  "metadata": {
    "colab": {
      "provenance": []
    },
    "kernelspec": {
      "display_name": "Python 3",
      "name": "python3"
    },
    "language_info": {
      "name": "python"
    }
  },
  "nbformat": 4,
  "nbformat_minor": 5
}